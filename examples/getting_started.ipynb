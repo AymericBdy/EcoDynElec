{
 "cells": [
  {
   "cell_type": "markdown",
   "id": "4abfbcee-418c-4e90-829b-79f03b9d333f",
   "metadata": {},
   "source": [
    "# Getting started"
   ]
  },
  {
   "cell_type": "markdown",
   "id": "09b90693-535c-4d3f-bc4a-d2206137aaae",
   "metadata": {},
   "source": [
    "`ecodynelec` must first be downloaded from its [Git repository](https://gitlab.com/fledee/ecodynelec), by using a prompt (example below) or any other method:"
   ]
  },
  {
   "cell_type": "raw",
   "id": "1822aca6-e9df-4338-8ae8-7613a279cb39",
   "metadata": {},
   "source": [
    ">> cd /path/to/where/to/download/ecodynelec\n",
    ">> git clone https://gitlab.com/fledee/ecodynelec.git"
   ]
  },
  {
   "cell_type": "markdown",
   "id": "569481f9-4e27-4986-af16-76869cfa96d0",
   "metadata": {},
   "source": [
    "After cloning the repository, the package can be used and installed in different ways, as explained below."
   ]
  },
  {
   "cell_type": "markdown",
   "id": "ee0c8433-0234-44e0-b61f-2b66827659a1",
   "metadata": {},
   "source": [
    "## Conventional install"
   ]
  },
  {
   "cell_type": "markdown",
   "id": "0d2f7fef-8518-4353-94e6-e17e02b2e3ed",
   "metadata": {},
   "source": [
    "Typical python installation softwares such as `pip` or `conda` can be used to install `ecodynelec` from your local copy of the git. To do so, use a prompt or a terminal and move inside the `ecodynelec/` directory. From there, use `pip` (example) or `conda` to install. The following attempt will trigger the installation by executing the `setup.py` file."
   ]
  },
  {
   "cell_type": "raw",
   "id": "4ff9a5cf-99b5-4b3d-91bc-408a7cc251d3",
   "metadata": {},
   "source": [
    ">> cd /path-to-ecodynelec-copy/ecodynelec/\n",
    ">> python -m pip install ecodynelec"
   ]
  },
  {
   "cell_type": "markdown",
   "id": "2341f5ea-e19f-4350-85cf-539173e9ddb2",
   "metadata": {},
   "source": [
    "Now `ecodynelec` can be imported and used as any other python package. If you wish to contribute in developing `elecodyn`, using the `pip install -e` flag when installing may be beneficial (c.f. [pip documentation](https://pip.pypa.io/en/stable/topics/local-project-installs/#editable-installs))"
   ]
  },
  {
   "cell_type": "markdown",
   "id": "91c18461-85f4-41db-9bc0-f9d3035c034b",
   "metadata": {},
   "source": [
    "An alternative is to use python to directly trigger the `setup.py` file within the `ecodynelec/` directory. More on this in the [official Python documentation](https://docs.python.org/3/install/#distutils-based-source-distributions)."
   ]
  },
  {
   "cell_type": "raw",
   "id": "a54cb546-4e09-4f1c-a66c-708b30343c60",
   "metadata": {},
   "source": [
    ">> cd /path-to-ecodynelec-copy/ecodynelec/\n",
    ">> python setup.py install"
   ]
  },
  {
   "cell_type": "markdown",
   "id": "3c8d6879-47d2-4ea7-bf9d-950fac1beed6",
   "metadata": {},
   "source": [
    "If experiencing issues using `ecodynelec` in notebooks, the \"*guaranteed install*\" below may be a good and cheap alternative."
   ]
  },
  {
   "cell_type": "markdown",
   "id": "8d4016e4-7632-401c-8d68-5c45d581c9fa",
   "metadata": {},
   "source": [
    "## Guaranteed install"
   ]
  },
  {
   "cell_type": "markdown",
   "id": "3b54c685-662a-45f6-a671-cea45c5a4ff6",
   "metadata": {},
   "source": [
    "To make sure the package can be used in every python environment, the absolute path to the `ecodynelec` package must be temporarily added to the python records. This method simply tells python where to find the source information. Actually, \"installing python packages\" just means \"telling python where to find packages on a machine to execute them\"."
   ]
  },
  {
   "cell_type": "code",
   "execution_count": 1,
   "id": "beb6abd4-98a8-44a9-b426-1dbb68b02fcc",
   "metadata": {},
   "outputs": [],
   "source": [
    "import sys, os # Required python libraries\n",
    "sys.path.insert(0, os.path.abspath(\"path/to/ecodynelec/package\")) # Adds the path to the package in the python records, but only in this script"
   ]
  },
  {
   "cell_type": "markdown",
   "id": "d8da7138-45dd-447a-8d75-d53aff706889",
   "metadata": {},
   "source": [
    "Now `ecodynelec` can be imported and used as any other python package, but only in the script where the previous lines are present."
   ]
  },
  {
   "cell_type": "code",
   "execution_count": 2,
   "id": "0a25a407-a178-4268-9f17-120a2d6e58b3",
   "metadata": {},
   "outputs": [],
   "source": [
    "import ecodynelec"
   ]
  }
 ],
 "metadata": {
  "kernelspec": {
   "display_name": "Python 3 (ipykernel)",
   "language": "python",
   "name": "python3"
  },
  "language_info": {
   "codemirror_mode": {
    "name": "ipython",
    "version": 3
   },
   "file_extension": ".py",
   "mimetype": "text/x-python",
   "name": "python",
   "nbconvert_exporter": "python",
   "pygments_lexer": "ipython3",
   "version": "3.8.10"
  }
 },
 "nbformat": 4,
 "nbformat_minor": 5
}
