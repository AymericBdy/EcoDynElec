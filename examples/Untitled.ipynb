{
 "cells": [
  {
   "cell_type": "markdown",
   "id": "d704843d",
   "metadata": {},
   "source": [
    "\\\n",
    "<font color=blue size=7>**DYNAMICAL Examples**</font>"
   ]
  },
  {
   "cell_type": "code",
   "execution_count": 2,
   "id": "b5275f1a",
   "metadata": {},
   "outputs": [],
   "source": [
    "import sys\n",
    "sys.path.append(\"../\")"
   ]
  },
  {
   "cell_type": "code",
   "execution_count": 3,
   "id": "8ae5612c",
   "metadata": {},
   "outputs": [],
   "source": [
    "import dynamical"
   ]
  },
  {
   "cell_type": "code",
   "execution_count": null,
   "id": "ed352bab",
   "metadata": {},
   "outputs": [],
   "source": []
  }
 ],
 "metadata": {
  "kernelspec": {
   "display_name": "EcoDyn",
   "language": "python",
   "name": "env_ecodyn"
  },
  "language_info": {
   "codemirror_mode": {
    "name": "ipython",
    "version": 3
   },
   "file_extension": ".py",
   "mimetype": "text/x-python",
   "name": "python",
   "nbconvert_exporter": "python",
   "pygments_lexer": "ipython3",
   "version": "3.7.11"
  },
  "toc": {
   "base_numbering": 1,
   "nav_menu": {},
   "number_sections": true,
   "sideBar": true,
   "skip_h1_title": false,
   "title_cell": "Table of Contents",
   "title_sidebar": "Contents",
   "toc_cell": false,
   "toc_position": {},
   "toc_section_display": true,
   "toc_window_display": false
  }
 },
 "nbformat": 4,
 "nbformat_minor": 5
}
