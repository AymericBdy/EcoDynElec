{
 "cells": [
  {
   "cell_type": "markdown",
   "id": "4abfbcee-418c-4e90-829b-79f03b9d333f",
   "metadata": {},
   "source": [
    "# Getting started"
   ]
  },
  {
   "cell_type": "markdown",
   "id": "09b90693-535c-4d3f-bc4a-d2206137aaae",
   "metadata": {},
   "source": [
    "`Dynamical` must be downloaded from its [Git repository](https://gitlab.com/fledee/ecodyn)."
   ]
  }
 ],
 "metadata": {
  "kernelspec": {
   "display_name": "Python 3 (ipykernel)",
   "language": "python",
   "name": "python3"
  },
  "language_info": {
   "codemirror_mode": {
    "name": "ipython",
    "version": 3
   },
   "file_extension": ".py",
   "mimetype": "text/x-python",
   "name": "python",
   "nbconvert_exporter": "python",
   "pygments_lexer": "ipython3",
   "version": "3.8.10"
  }
 },
 "nbformat": 4,
 "nbformat_minor": 5
}
