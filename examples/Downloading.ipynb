{
 "cells": [
  {
   "cell_type": "markdown",
   "id": "d685930b-b9b7-40f4-8dd5-b8b7b38aed60",
   "metadata": {},
   "source": [
    "# Downloading data with `ecodynelec`"
   ]
  },
  {
   "cell_type": "markdown",
   "id": "347e5972-56db-4a58-8e64-c5aad25fce97",
   "metadata": {},
   "source": [
    "`ecodynelec` integrates the possibility to download the required data from ENTSO-E servers. Though, *using the software may be slow*, thus the use of a third-party SFTP software is detailed in the [Supplementary Information](https://ecodynelec.readthedocs.io/en/latest/supplementary/download.html#).\n",
    "\n",
    "This page details how to use `ecodynelec` to download the required data from ENTSO-E databases. It covers:\n",
    "* How to configure the software to request the downloading\n",
    "* How to use use the `download` module of `ecodynelec`\n",
    "* How to use the main pipeline, including the download of data."
   ]
  },
  {
   "cell_type": "markdown",
   "id": "c81aeada-8f8a-4145-aacc-e513eda5b0ef",
   "metadata": {},
   "source": [
    "## 1. Configuration"
   ]
  },
  {
   "cell_type": "markdown",
   "id": "95fad5ff-49d6-48f5-befb-cf9ee5e6e590",
   "metadata": {},
   "source": [
    "The configuration can be made in 2 ways, as explained in [Supplementary Information](https://ecodynelec.readthedocs.io/en/latest/supplementary/parameters.html#). One can set it up via the `Parameter` module or using a spreadsheet."
   ]
  },
  {
   "cell_type": "markdown",
   "id": "dcb04e9c-eed5-4212-ab6a-9860e285fb8c",
   "metadata": {
    "tags": []
   },
   "source": [
    "### 1.1 Using a spreadsheet"
   ]
  },
  {
   "cell_type": "markdown",
   "id": "a35dd9b4-8fe4-42c0-b8b2-54fd97e3eee2",
   "metadata": {},
   "source": [
    "In a spreadsheet, a tab named \"*Server*\" must be used, containing the table shown in the figure below."
   ]
  },
  {
   "cell_type": "markdown",
   "id": "f6559749-75fc-4fd9-9241-161b02ce471e",
   "metadata": {},
   "source": [
    "![serverSpreadhseet](../docs/supplementary/images/ParameterExcel_Server.png)"
   ]
  },
  {
   "cell_type": "markdown",
   "id": "cddc9d64-2744-4a19-b064-a3d989a12fe5",
   "metadata": {},
   "source": [
    "Each field must be written as presented, in low case. The fields are:\n",
    "* ***host***: the address of the sftp server. Per default, we use \"*sftp-transparency.entsoe.eu*\".\n",
    "* ***port***: the port to connect to the server. Per default, the port is *22*.\n",
    "* ***username***: your username, as created for free on the [ENTSO-E website](https://transparency.entsoe.eu/).\n",
    "* ***password***: your password, as created for free on the [ENTSO-E website](https://transparency.entsoe.eu/). For security reasons, we do recommend to let the field blank, which will let the `downloading` package ask for the password in a more secured manner.\n",
    "* ***use server***: ***TRUE*** if you want to download the data. Blank or ***FALSE*** will not download the data (default).\n",
    "* ***remove unused***: ***TRUE*** if you want the target directories (where to download) to be emptied before downloading. Blank or ***FALSE*** to ignore other files in the target directory (default)."
   ]
  },
  {
   "cell_type": "markdown",
   "id": "77509ada-98d7-4a85-912d-c93a8672f29e",
   "metadata": {},
   "source": [
    "The files will be downloaded and saved in the directories indicated at the fields ***path generation*** and ***path exchanges*** of the tab *Filepath* of the spreadsheet (Figure below). Also make sure you set the date accordingly (tab *Parameter*), to allow the selection of files to download. More information on the *Parameter* tab in the [Supplementary Information](https://ecodynelec.readthedocs.io/en/latest/supplementary/parameters.html#)."
   ]
  },
  {
   "cell_type": "markdown",
   "id": "94906328-1329-45c4-a2e5-bf927d0ac057",
   "metadata": {},
   "source": [
    "### 1.2 Using the `Parameter` module"
   ]
  },
  {
   "cell_type": "markdown",
   "id": "27abbc9a-8ff4-4588-ad0e-a6aa4af9053c",
   "metadata": {},
   "source": [
    "To configure parameters directly in Python, the `parameter` module can be used."
   ]
  },
  {
   "cell_type": "code",
   "execution_count": 1,
   "id": "04fff827-e3d4-4854-8a0a-86ec07652865",
   "metadata": {
    "tags": []
   },
   "outputs": [],
   "source": [
    "import sys\n",
    "sys.path.insert(0, \"Absolute/path/to/ecodynelec/\")"
   ]
  },
  {
   "cell_type": "code",
   "execution_count": 2,
   "id": "9711d1bc-c847-4a77-b4fa-ced62b3e6ea5",
   "metadata": {},
   "outputs": [],
   "source": [
    "from ecodynelec.parameter import Parameter # Import the Parameter class"
   ]
  },
  {
   "cell_type": "code",
   "execution_count": 3,
   "id": "ac7e4148-ee5b-460e-88aa-749e0d5a9807",
   "metadata": {},
   "outputs": [],
   "source": [
    "config = Parameter()"
   ]
  },
  {
   "cell_type": "code",
   "execution_count": 4,
   "id": "6dc751b4-41d6-4f40-b455-07172d5a83ce",
   "metadata": {},
   "outputs": [],
   "source": [
    "config.path.swissGrid"
   ]
  },
  {
   "cell_type": "markdown",
   "id": "5c0e7ff9-c276-417d-a922-2c0499b51c66",
   "metadata": {},
   "source": [
    "Strictly regarding the requirements for downloading, we require\n",
    "* to set the dates\n",
    "* to indicate the directory where to download\n",
    "* to configure the server connection"
   ]
  },
  {
   "cell_type": "code",
   "execution_count": 5,
   "id": "cc7d42c4-05ee-4a3b-88c2-55371b61d1bf",
   "metadata": {},
   "outputs": [],
   "source": [
    "### Initialize the configuration\n",
    "config = Parameter()"
   ]
  },
  {
   "cell_type": "code",
   "execution_count": 6,
   "id": "a951b25e-9efa-4102-ac13-416d73a48a45",
   "metadata": {
    "tags": []
   },
   "outputs": [],
   "source": [
    "### Set the dates (to select files to download)\n",
    "config.start = '2017-02-01 05:00'\n",
    "config.end = '2017-02-01 13:00'"
   ]
  },
  {
   "cell_type": "code",
   "execution_count": 7,
   "id": "38662d17-81b3-4a8d-af63-d8b4d9d4bcb9",
   "metadata": {
    "tags": []
   },
   "outputs": [],
   "source": [
    "### Indicate where to save the generation data\n",
    "config.path.generation = \"./test_data/downloads/generations/\"\n",
    "\n",
    "### Indicate where to save the exchange data\n",
    "config.path.exchanges = \"./test_data/downloads/exchanges/\""
   ]
  },
  {
   "cell_type": "code",
   "execution_count": 8,
   "id": "556244a3-3d87-42c6-8ec9-0a760467a24e",
   "metadata": {
    "tags": []
   },
   "outputs": [],
   "source": [
    "### Configure the server connection\n",
    "config.server.useServer = True # Specifically ask to download data\n",
    "config.server.host = \"sftp-transparency.entsoe.eu\" # This server is already set per default after initialization\n",
    "config.server.port = 22 # This port is already set per default after initialization"
   ]
  },
  {
   "cell_type": "markdown",
   "id": "1ad26c6f-798b-4e6c-b830-96b52e703465",
   "metadata": {},
   "source": [
    "Note that the above example does not set a password. This will then be asked later. Also note that values for `config.server.host` and `config.server.port` are set per default during the initialization, it is not necessary to specify them again."
   ]
  },
  {
   "cell_type": "markdown",
   "id": "e8bf095e-c706-4f2b-bb0c-5da669a5f0bb",
   "metadata": {},
   "source": [
    "## 2. Download using the `download` module"
   ]
  },
  {
   "cell_type": "markdown",
   "id": "0678c238-e27a-45bb-9ff1-9af8456a0d46",
   "metadata": {},
   "source": [
    "The function to download the data is `ecodynelec.preprocessing.downloading` and must be imported (for the download only)."
   ]
  },
  {
   "cell_type": "code",
   "execution_count": 9,
   "id": "463dc704-db20-465e-aeba-c8fd231023b4",
   "metadata": {
    "tags": []
   },
   "outputs": [],
   "source": [
    "### Import the function to download\n",
    "from ecodynelec.preprocessing.downloading import download"
   ]
  },
  {
   "cell_type": "markdown",
   "id": "ef8d86e5-7d0b-4f3c-86dd-7aadd2dfe175",
   "metadata": {},
   "source": [
    "Before the download, the module verifies if it is worth transferring each file; download is aborted if (1) it already exists locally, (2) the local version was modified less than 15min before the remove version was modified and (3) the local file is 90% or less in size than the remote file. Conditions 2 and 3 allow to download again if a file was partially downloaded (interruption during of previous download). Their parameters (15min and 90%) are default values but can be modified by the user in the `download` function."
   ]
  },
  {
   "cell_type": "markdown",
   "id": "4e116c29-8948-4a55-865f-d2a74a4181c0",
   "metadata": {},
   "source": [
    "After importing the `download` function, the following command will grab the required data on the server. The following uses the configuration done with Python."
   ]
  },
  {
   "cell_type": "code",
   "execution_count": 10,
   "id": "7de89556-b07c-4fb0-a8f6-9a3b60ada214",
   "metadata": {
    "tags": []
   },
   "outputs": [
    {
     "name": "stdout",
     "output_type": "stream",
     "text": [
      "Connection...\r"
     ]
    },
    {
     "name": "stdin",
     "output_type": "stream",
     "text": [
      "Username:  username@host.mail\n",
      "Password:  ········\n"
     ]
    },
    {
     "name": "stdout",
     "output_type": "stream",
     "text": [
      "\tDownload from server: 46.41 sec                                        \n"
     ]
    }
   ],
   "source": [
    "download(config=config, is_verbose=True) # is_verbose does display some text while downloading"
   ]
  },
  {
   "cell_type": "markdown",
   "id": "3fd22321-3a20-457e-9f9d-2d2fbadfb2d6",
   "metadata": {},
   "source": [
    "An alternative is to directly pass the spreadsheet path as a parameter. The following command does the exact same as the previous one, if the spreadsheet was written correctly. Note that the username and password are asked here also, as these were not specified in the spreadsheet, however these can also be specified in it. If the previous cell was run before, the download should not occur again, as explained in the previous paragraph. "
   ]
  },
  {
   "cell_type": "code",
   "execution_count": 11,
   "id": "1cee3075-16bb-48cf-baf4-25e78583a1bb",
   "metadata": {
    "tags": []
   },
   "outputs": [
    {
     "name": "stdout",
     "output_type": "stream",
     "text": [
      "Connection...\r"
     ]
    },
    {
     "name": "stdin",
     "output_type": "stream",
     "text": [
      "Username:  username@host.mail\n",
      "Password:  ········\n"
     ]
    },
    {
     "name": "stdout",
     "output_type": "stream",
     "text": [
      "\tDownload from server: 12.67 sec                                        \n"
     ]
    }
   ],
   "source": [
    "download(config=\"./Spreadsheet_download.xlsx\", is_verbose=True)"
   ]
  },
  {
   "cell_type": "markdown",
   "id": "cb52a2cc-50df-43b3-803b-a8b36f24db29",
   "metadata": {},
   "source": [
    "## 3. Include the download in the overall pipeline"
   ]
  },
  {
   "cell_type": "markdown",
   "id": "3e7453b9-3cbb-4111-81e2-7ca97281f19e",
   "metadata": {},
   "source": [
    "It is also possible to include the download within the overall computation pipeline. To do so, make sure the configuration is set correctly as explained in section 1, either in a spreadsheet or in Python. Then simply execute the main function of `ecodynelec` passing this configuration as parameter."
   ]
  },
  {
   "cell_type": "code",
   "execution_count": 12,
   "id": "1903f899-5d9b-4945-b42e-d4216c0127a0",
   "metadata": {},
   "outputs": [],
   "source": [
    "### Import the main execution function\n",
    "from ecodynelec.pipelines import execute"
   ]
  },
  {
   "cell_type": "markdown",
   "id": "2436897b-05dc-4d40-bbf5-2e587ebbfa33",
   "metadata": {},
   "source": [
    "The following cell executes the whole pipeline, including download, from a configuration set up with Python."
   ]
  },
  {
   "cell_type": "code",
   "execution_count": 13,
   "id": "5b3eca81-6576-433d-84f0-5423342eb109",
   "metadata": {},
   "outputs": [
    {
     "name": "stdin",
     "output_type": "stream",
     "text": [
      "Password:  ········\n"
     ]
    }
   ],
   "source": [
    "results = execute(config=config, is_verbose=False)"
   ]
  },
  {
   "cell_type": "markdown",
   "id": "fe97f55a-04f7-43e5-84a9-d68a736de88d",
   "metadata": {},
   "source": [
    "The following cell executes the whole pipeline, including download, from a configuration set up in a spreadsheet."
   ]
  },
  {
   "cell_type": "code",
   "execution_count": 14,
   "id": "7903ff6f-98c2-4cd2-9c22-556769d30698",
   "metadata": {},
   "outputs": [
    {
     "name": "stdin",
     "output_type": "stream",
     "text": [
      "Username:  username@host.mail\n",
      "Password:  ········\n"
     ]
    }
   ],
   "source": [
    "results = execute(config=\"./Spreadsheet_download.xlsx\", is_verbose=False)"
   ]
  }
 ],
 "metadata": {
  "kernelspec": {
   "display_name": "Python 3 (ipykernel)",
   "language": "python",
   "name": "python3"
  },
  "language_info": {
   "codemirror_mode": {
    "name": "ipython",
    "version": 3
   },
   "file_extension": ".py",
   "mimetype": "text/x-python",
   "name": "python",
   "nbconvert_exporter": "python",
   "pygments_lexer": "ipython3",
   "version": "3.8.10"
  }
 },
 "nbformat": 4,
 "nbformat_minor": 5
}
