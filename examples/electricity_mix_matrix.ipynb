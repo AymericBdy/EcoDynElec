{
 "cells": [
  {
   "cell_type": "markdown",
   "id": "bd858cb7",
   "metadata": {},
   "source": [
    "# Compute electric mix for all countries\n",
    "\n",
    "The main pipeline of `ecodynelec` presented in tutorials [1](https://ecodynelec.readthedocs.io/en/latest/examples/with_python.html#execution) and [2](https://ecodynelec.readthedocs.io/en/latest/examples/with_spreadsheet.html#execution) only compute the electricity mix and impacts for one target country.\n",
    "\n",
    "However `ecodynelec` can compute the <u>electric mix</u> for all considered countries, ***all at once***. In facts, this information is an intermediate result in the main pipeline. The feature of extracting this intermediate result was added due to its potential usefulness. This tutorial shows how.\n",
    "\n",
    "In technical words, a function `get_inverted_matrix` allow to retrieve the invert of technology matrix $(I-A)^{-1}$."
   ]
  },
  {
   "cell_type": "code",
   "execution_count": null,
   "id": "6d65fa48",
   "metadata": {
    "tags": [],
    "ExecuteTime": {
     "start_time": "2023-05-03T16:25:19.220754Z",
     "end_time": "2023-05-03T16:25:20.016348Z"
    }
   },
   "outputs": [],
   "source": [
    "from ecodynelec.pipelines import get_inverted_matrix # Import the function\n",
    "from ecodynelec.parameter import Parameter # Import the parameter handler object"
   ]
  },
  {
   "cell_type": "code",
   "execution_count": null,
   "id": "b58a98f0",
   "metadata": {
    "tags": [],
    "ExecuteTime": {
     "start_time": "2023-05-03T16:25:20.017347Z",
     "end_time": "2023-05-03T16:25:20.422368Z"
    }
   },
   "outputs": [],
   "source": [
    "# Configuration to reduce the number of time steps\n",
    "my_config = Parameter().from_excel(\"./Spreadsheet_example.xlsx\")\n",
    "my_config.start=\"2017-02-01 12:00\"\n",
    "my_config.end=\"2017-02-01 14:00\" # Only 2 hours\n",
    "my_config.freq = \"H\" # Only in hourly time step\n",
    "my_config.path.generation = \"./test_data/generations/\" # Generation files\n",
    "my_config.path.exchanges = \"./test_data/exchanges/\" # Exchanges files"
   ]
  },
  {
   "cell_type": "code",
   "execution_count": null,
   "id": "39b6403c",
   "metadata": {
    "tags": [],
    "ExecuteTime": {
     "start_time": "2023-05-03T16:25:20.423368Z",
     "end_time": "2023-05-03T16:25:24.244729Z"
    }
   },
   "outputs": [],
   "source": [
    "# Execute the function\n",
    "mix = get_inverted_matrix(config=my_config)"
   ]
  },
  {
   "cell_type": "markdown",
   "id": "c42d0dd2-2d42-4adf-bcd6-435151b35053",
   "metadata": {},
   "source": [
    "The result is **one matrix per time step**, all stored in a `list`. Here is an overview of the first matrix, i.e. corresponding to the first time step."
   ]
  },
  {
   "cell_type": "code",
   "execution_count": null,
   "id": "8cb8b542",
   "metadata": {
    "tags": [],
    "ExecuteTime": {
     "start_time": "2023-05-03T16:25:24.245729Z",
     "end_time": "2023-05-03T16:25:24.283691Z"
    }
   },
   "outputs": [],
   "source": [
    "display(mix[0])"
   ]
  },
  {
   "cell_type": "markdown",
   "id": "ebb09e0a",
   "metadata": {},
   "source": [
    "## Build function to condense and visualize data"
   ]
  },
  {
   "cell_type": "code",
   "execution_count": null,
   "id": "1041108a",
   "metadata": {
    "ExecuteTime": {
     "start_time": "2023-05-03T16:25:24.278721Z",
     "end_time": "2023-05-03T16:25:24.290696Z"
    }
   },
   "outputs": [],
   "source": [
    "import numpy as np # need numpy functions \n",
    "import pandas as pd # need pandas functions"
   ]
  },
  {
   "cell_type": "code",
   "execution_count": null,
   "id": "d3c859b8",
   "metadata": {
    "ExecuteTime": {
     "start_time": "2023-05-03T16:25:24.293692Z",
     "end_time": "2023-05-03T16:25:24.316610Z"
    }
   },
   "outputs": [],
   "source": [
    "def group_by_family(matrix):\n",
    "    families = {'Fossil':['Fossil_Brown_coal/Lignite', 'Fossil_Coal-derived_gas',\n",
    "                          'Fossil_Gas', 'Fossil_Hard_coal', 'Fossil_Oil', 'Fossil_Oil_shale',\n",
    "                          'Fossil_Peat','Other_fossil'],\n",
    "                'Nuclear':['Nuclear'],\n",
    "                'Hydro':['Hydro_Pumped_Storage','Hydro_Run-of-river_and_poundage',\n",
    "                         'Hydro_Water_Reservoir', 'Marine'],\n",
    "                'Other Renwable':['Biomass', 'Geothermal', 'Other_renewable',\n",
    "                                  'Solar', 'Waste', 'Wind_Offshore', 'Wind_Onshore'],\n",
    "                'External imports':['Mix']}\n",
    "    \n",
    "    per_family = []\n",
    "    for f in families:\n",
    "        idx = [k for k in matrix.index if \"_\".join(k.split(\"_\")[:-1]) in families[f]]\n",
    "        per_family.append(pd.Series(matrix.loc[idx].sum(), name=f))\n",
    "    return pd.concat(per_family, axis=1)\n",
    "\n",
    "\n",
    "def group_per_country(matrix):\n",
    "    \"\"\"Function to group datasets per country\"\"\"\n",
    "    countries = np.unique([k.split(\"_\")[-1] for k in matrix.index])\n",
    "    \n",
    "    per_country = []\n",
    "    for c in countries:\n",
    "        idx = [k for k in matrix.index if k.split(\"_\")[-1]==c]\n",
    "        per_country.append(pd.Series(matrix.loc[idx].sum(), name=c))\n",
    "        \n",
    "    return pd.concat(per_country,axis=1)"
   ]
  },
  {
   "cell_type": "markdown",
   "id": "842bc02d",
   "metadata": {},
   "source": [
    "## Visualize the origin per production type (columns) in each country (index)"
   ]
  },
  {
   "cell_type": "code",
   "execution_count": null,
   "id": "83d5e8ed",
   "metadata": {
    "scrolled": true,
    "ExecuteTime": {
     "start_time": "2023-05-03T16:25:24.316610Z",
     "end_time": "2023-05-03T16:25:24.510702Z"
    }
   },
   "outputs": [],
   "source": [
    "# Visualize table grouped by type of plant for 1st time step\n",
    "group_by_family(mix[0].loc[\"Mix_Other\":, :\"Mix_IT\"])"
   ]
  },
  {
   "cell_type": "code",
   "execution_count": null,
   "id": "f0b2ba13",
   "metadata": {
    "ExecuteTime": {
     "start_time": "2023-05-03T16:25:24.361091Z",
     "end_time": "2023-05-03T16:25:24.511701Z"
    }
   },
   "outputs": [],
   "source": [
    "# Visualize table grouped by type of plant for 2st time step\n",
    "group_by_family(mix[1].loc[\"Mix_Other\":, :\"Mix_IT\"])"
   ]
  },
  {
   "cell_type": "markdown",
   "id": "b26a131e",
   "metadata": {},
   "source": [
    "## Visualize the origin per country (columns) in each country (index)"
   ]
  },
  {
   "cell_type": "code",
   "execution_count": null,
   "id": "06d62291",
   "metadata": {
    "scrolled": true,
    "ExecuteTime": {
     "start_time": "2023-05-03T16:25:24.402486Z",
     "end_time": "2023-05-03T16:25:24.511701Z"
    }
   },
   "outputs": [],
   "source": [
    "# Visualize table grouped by country for 1st time step\n",
    "group_per_country(mix[0].loc[\"Mix_Other\":, :\"Mix_IT\"]) # 1st time step"
   ]
  },
  {
   "cell_type": "code",
   "execution_count": null,
   "id": "0ecaafc2",
   "metadata": {
    "tags": [],
    "ExecuteTime": {
     "start_time": "2023-05-03T16:25:24.443930Z",
     "end_time": "2023-05-03T16:25:24.511701Z"
    }
   },
   "outputs": [],
   "source": [
    "# Visualize table grouped by country for 2nd time step\n",
    "group_per_country(mix[1].loc[\"Mix_Other\":, :\"Mix_IT\"]) # 2nd time step"
   ]
  },
  {
   "cell_type": "code",
   "execution_count": null,
   "outputs": [],
   "source": [],
   "metadata": {
    "collapsed": false
   }
  }
 ],
 "metadata": {
  "kernelspec": {
   "display_name": "Python 3 (ipykernel)",
   "language": "python",
   "name": "python3"
  },
  "language_info": {
   "codemirror_mode": {
    "name": "ipython",
    "version": 3
   },
   "file_extension": ".py",
   "mimetype": "text/x-python",
   "name": "python",
   "nbconvert_exporter": "python",
   "pygments_lexer": "ipython3",
   "version": "3.8.10"
  },
  "toc": {
   "base_numbering": 1,
   "nav_menu": {},
   "number_sections": true,
   "sideBar": true,
   "skip_h1_title": false,
   "title_cell": "Table of Contents",
   "title_sidebar": "Contents",
   "toc_cell": false,
   "toc_position": {},
   "toc_section_display": true,
   "toc_window_display": false
  }
 },
 "nbformat": 4,
 "nbformat_minor": 5
}
