{
 "cells": [
  {
   "cell_type": "markdown",
   "id": "b725ec64-d67e-4a20-a04f-f7ff05bc5abc",
   "metadata": {},
   "source": [
    "# Downloading ENTSO-E data"
   ]
  },
  {
   "cell_type": "markdown",
   "id": "15a8de1b-9fd4-4b00-89eb-4756712c1530",
   "metadata": {},
   "source": [
    "Data from the ENTSO-E is at the heat of `ecodynelec`. Though `ecodynelec` integrates the possibility to download the required data from ENTSO-E servers directly, and can also deal with already manually downloaded data. This tutorial details the different possibilities to download the ENTSO-E data, i.e. with and without `ecodynelec`.\n",
    "\n",
    "In any case, <u>***an account must be created***</u> on the [ENTSO-E website](https://transparency.entsoe.eu/) for using the SFTP service and access the data."
   ]
  },
  {
   "cell_type": "markdown",
   "id": "387b006c-6325-4eda-b6d4-902990e09ed1",
   "metadata": {},
   "source": [
    "## Manual downloading"
   ]
  },
  {
   "cell_type": "markdown",
   "id": "2f2ae320-3b73-4afc-9a28-bd802f8750a2",
   "metadata": {},
   "source": [
    "Manual retrieval of the data requires an FTP software. We use **[FileZilla](https://filezilla-project.org/)** to illustrate the procedure. Provide the software with:\n",
    "* Host: `sftp://sftp-transparency.entsoe.eu`\n",
    "* Port: 22\n",
    "* Personal credentials"
   ]
  },
  {
   "cell_type": "markdown",
   "id": "90768c33-f00a-47f2-a104-f76e461569b4",
   "metadata": {},
   "source": [
    "Navigate through the remote architecture and download the files of interest. The generation files are located in `/TP_export/AggregatedGenerationPerType_16.1.B_C/`. The exchanges files are located in `/TP_export/PhysicalFlows_12.1.G/`. *Figure 1* give details on how to proceed with FileZilla."
   ]
  },
  {
   "cell_type": "markdown",
   "id": "8c74d969-29f9-4f4c-8a9b-16b90497cc40",
   "metadata": {},
   "source": [
    "![FileZilla handling](https://github.com/LESBAT-HEIG-VD/EcoDynElec/blob/main/docs/examples/images/Filezilla.png?raw=true)\\\n",
    "*Figure 1: Download files using FileZilla*"
   ]
  },
  {
   "cell_type": "markdown",
   "id": "a5cc1331-d243-487f-9969-721631b15c7e",
   "metadata": {},
   "source": [
    "## Downloading via `ecodynelec`"
   ]
  },
  {
   "cell_type": "markdown",
   "id": "fa4fad2e-fc00-4dba-adb4-68e442773716",
   "metadata": {},
   "source": [
    "The data can be downloaded via `ecodynelec`.\n",
    "\n",
    "First, the configuration must be adapted, either using a [spreadsheet](https://ecodynelec.readthedocs.io/en/latest/examples/downloading.html#configuration-via-spreadsheet) or using [python](https://ecodynelec.readthedocs.io/en/latest/examples/downloading.html#configuration-in-python).\n",
    "\n",
    "Then the download can be triggered, either in a [standalone fashion](https://ecodynelec.readthedocs.io/en/latest/examples/downloading.html#standalone-download) or as part of the whole computation pipeline. The global tutorials on how to use `ecodynelec` [fully in Python](https://ecodynelec.readthedocs.io/en/latest/examples/with_python.html#execution) and [with spreadsheet configuration](https://ecodynelec.readthedocs.io/en/latest/examples/with_spreadsheet.html#execution) give more details on the latter."
   ]
  },
  {
   "cell_type": "markdown",
   "id": "901688c3-a5bf-4930-9564-ba455e51b7f4",
   "metadata": {
    "tags": []
   },
   "source": [
    "### Configuration via spreadsheet"
   ]
  },
  {
   "cell_type": "markdown",
   "id": "556dd1a3-9789-4aaf-bf13-219f944523f4",
   "metadata": {},
   "source": [
    "![Server tab Spreadsheet](https://github.com/LESBAT-HEIG-VD/EcoDynElec/blob/main/docs/examples/images/ParameterExcel_ServerDownload.png?raw=true)\\\n",
    "*Figure 1: Spreadsheet for configuration: Server tab suited for download*"
   ]
  },
  {
   "cell_type": "markdown",
   "id": "eb69c7a1-f20e-44d1-9f70-11f54cdba492",
   "metadata": {},
   "source": [
    "Each field must be written as presented, in low case. The fields are:\n",
    "* ***host***: the address of the sftp server. Per default, we use \"*sftp-transparency.entsoe.eu*\".\n",
    "* ***port***: the port to connect to the server. Per default, the port is *22*.\n",
    "* ***username***: your username, as created for free on the [ENTSO-E website](https://transparency.entsoe.eu/). It should be an <font color=blue><u>email@address</u></font>. If the field is left blank in the spreadsheet, the credential will be asked when the downloading is launched.\n",
    "* ***password***: your password, as created for free on the [ENTSO-E website](https://transparency.entsoe.eu/). For security reasons, we do recommend to let the field blank, which will let the `downloading` package ask for the password in a more secured manner.\n",
    "* ***use server***: ***TRUE*** if you want to download the data. Blank or ***FALSE*** will not download the data (default).\n",
    "* ***remove unused***: ***TRUE*** if you want the target directories (where to download) to be emptied before downloading. Blank or ***FALSE*** to ignore other files in the target directory (default)."
   ]
  },
  {
   "cell_type": "markdown",
   "id": "40235fba-cc97-40d8-b936-33443fd20121",
   "metadata": {},
   "source": [
    "The files will be downloaded and saved in the directories indicated at the fields ***path generation*** and ***path exchanges*** of the tab *Filepath* of the spreadsheet (c.f. *Figure 2*). Also make sure you set the date accordingly (tab *Parameter*), to allow the selection of files to download. More information on the various configuration possibilities available in the [input data section](https://ecodynelec.readthedocs.io/en/latest/data_input/parameters.html)."
   ]
  },
  {
   "cell_type": "markdown",
   "id": "3560dad3-c56f-46d0-9454-371c4d513905",
   "metadata": {},
   "source": [
    "![Server tab Spreadsheet](https://github.com/LESBAT-HEIG-VD/EcoDynElec/blob/main/docs/examples/images/ParameterExcel_PathsDownload.png?raw=true)\\\n",
    "*Figure 2: Spreadsheet for configuration: Paths tab*"
   ]
  },
  {
   "cell_type": "markdown",
   "id": "d7b91f7d-d482-48f2-899f-4e989a24fcef",
   "metadata": {},
   "source": [
    "### Configuration in Python"
   ]
  },
  {
   "cell_type": "code",
   "execution_count": null,
   "id": "a5116288-0ad7-464a-bfbe-51dfbc1b722c",
   "metadata": {},
   "outputs": [],
   "source": [
    "from ecodynelec.parameter import Parameter # Import the configuration management class\n",
    "\n",
    "# Initialize the parameter class\n",
    "my_config = Parameter()"
   ]
  },
  {
   "cell_type": "markdown",
   "id": "b95d0dac-c8b9-4982-826e-92ccb46627ca",
   "metadata": {},
   "source": [
    "The server connection needs a configuration which is not the default. Here is how to change it.\n",
    "\n",
    "***Note*** that credentials can be specified directly in the configuration object, but this is not necessary. Instead in this example, we let them empty (or `None` for the example, which is strictly equivalent), and these will be asked later when the downloading starts."
   ]
  },
  {
   "cell_type": "code",
   "execution_count": null,
   "id": "56723b90-dc61-495e-8df6-367ca69c20d7",
   "metadata": {},
   "outputs": [],
   "source": [
    "### Configure the server connection\n",
    "my_config.server.useServer = True # Specifically ask to download data\n",
    "my_config.server.host = \"sftp-transparency.entsoe.eu\" # This server is already set per default after initialization\n",
    "my_config.server.port = 22 # This port is already set per default after initialization\n",
    "\n",
    "### Credentials\n",
    "my_config.server.username = None\n",
    "my_config.server.password = None"
   ]
  },
  {
   "cell_type": "markdown",
   "id": "26cd03a1-63bb-462b-91ea-b2995758af9d",
   "metadata": {},
   "source": [
    "Each field is accessible and modifiable with the syntax `my_config.server.field`. The fields are:\n",
    "* `host`: the address of the sftp server. Per default, we use \"*sftp-transparency.entsoe.eu*\".\n",
    "* `port`: the port to connect to the server. Per default, the port is *22*.\n",
    "* `username`: your username, as created for free on the [ENTSO-E website](https://transparency.entsoe.eu/). It should be an <font color=blue><u>email@address</u></font>. If the field is left blank in the spreadsheet, the credential will be asked when the downloading is launched.\n",
    "* `password`: your password, as created for free on the [ENTSO-E website](https://transparency.entsoe.eu/). For security reasons, we do recommend to not specify it, which will let the `downloading` package ask for the password in a more secured manner.\n",
    "* `useServer`: ***TRUE*** if you want to download the data. Blank or ***FALSE*** will not download the data (default).\n",
    "* `removeUnused`: ***TRUE*** if you want the target directories (where to download) to be emptied before downloading. Blank or ***FALSE*** to ignore other files in the target directory (default).\n",
    "* `_remoteGenerationDir`: where to find the generation data on the ENTSO-E server. This field should be left per default, i.e. not specified. However it is included for flexibility purpose if the server modifies its architecture.\n",
    "* `_remoteExchangesDir`: where to find the exchanges data on the ENTSO-E server. This field should be left per default, i.e. not specified. However it is included for flexibility purpose if the server modifies its architecture."
   ]
  },
  {
   "cell_type": "markdown",
   "id": "6d81c210-a55e-4293-b7a7-ea31b66014e5",
   "metadata": {},
   "source": [
    "The data will be downloaded where the `my_config.path` section points at, these fields must then be specified. Note that these `path` settings are the same used by `ecodynelec` to find local files containing data to be used in the main computation."
   ]
  },
  {
   "cell_type": "code",
   "execution_count": null,
   "id": "666c397f-1459-4e02-b8a9-158a5a4fd22b",
   "metadata": {},
   "outputs": [],
   "source": [
    "# Indicate where to save generation data\n",
    "my_config.path.generation = \"./test_data/downloads/generations/\"\n",
    "\n",
    "# Indicate where to save exchange data\n",
    "my_config.path.exchanges = \"./test_data/downloads/exchanges/\""
   ]
  },
  {
   "cell_type": "markdown",
   "id": "9722d19f-74ad-434e-b5db-e759b6bd424b",
   "metadata": {},
   "source": [
    "Finally, the `start` and `end` dates must be specified in the main section of the configuration object to only download the useful files."
   ]
  },
  {
   "cell_type": "code",
   "execution_count": 6,
   "id": "50976c83-7656-457d-be71-65386386e265",
   "metadata": {
    "tags": []
   },
   "outputs": [],
   "source": [
    "### Set the dates (to select files to download)\n",
    "my_config.start = '2017-02-01 05:00'\n",
    "my_config.end = '2017-02-01 13:00'"
   ]
  },
  {
   "cell_type": "markdown",
   "id": "c250e787-596f-48fc-9371-54b788456807",
   "metadata": {},
   "source": [
    "### Standalone download"
   ]
  },
  {
   "cell_type": "markdown",
   "id": "8e0cb9ed-38ce-4798-b23a-c1f9f1f3d87b",
   "metadata": {},
   "source": [
    "Once the configuration is set properly, the download can be triggered. This section demonstrates the standalone download, and showcases the additional specific parameters otherwise not accessible. However for a more generic usage, the downloading feature has also been integrated to the [whole computation pipeline](https://ecodynelec.readthedocs.io/en/latest/examples/downloading.html#downloading-via-ecodynelec) of `ecodynelec`."
   ]
  },
  {
   "cell_type": "code",
   "execution_count": 1,
   "id": "b25a26f6-5873-4507-8a02-1ca5787d163e",
   "metadata": {
    "tags": []
   },
   "outputs": [],
   "source": [
    "from ecodynelec.preprocessing.downloading import download"
   ]
  },
  {
   "cell_type": "markdown",
   "id": "96bde43c-098c-460e-b257-16db527d7b1b",
   "metadata": {},
   "source": [
    "Here all parameters are specified, however only `config` is mandatory, and every other parameter use default values if not specified.\n",
    "\n",
    "***Note*** that the configuration used here relies on the `Spreadsheet_download.xlsx`, but similarly to the whole `ecodynelec` pipeline, the `config=` parameter can also be a `Parameter` object, such as the `my_config` that was built in the [above section](https://ecodynelec.readthedocs.io/en/latest/examples/downloading.html#configuration-in-python)."
   ]
  },
  {
   "cell_type": "code",
   "execution_count": 2,
   "id": "444eb39a-c443-417c-9bf2-3d55e6a49dd9",
   "metadata": {
    "tags": []
   },
   "outputs": [
    {
     "name": "stdout",
     "output_type": "stream",
     "text": [
      "Connection...\r"
     ]
    },
    {
     "name": "stdin",
     "output_type": "stream",
     "text": [
      "Username:  ledee.public@gmail.com\n",
      "Password:  ········\n"
     ]
    },
    {
     "name": "stdout",
     "output_type": "stream",
     "text": [
      "[Generation 1/1] Transferred: 45.9 MB\tOut of: 118.1          \r"
     ]
    },
    {
     "name": "stderr",
     "output_type": "stream",
     "text": [
      "\n",
      "KeyboardInterrupt\n",
      "\n"
     ]
    }
   ],
   "source": [
    "download(config=\"./Spreadsheet_download.xlsx\", threshold_minutes=15, threshold_size=0.9, is_verbose=True)"
   ]
  },
  {
   "cell_type": "markdown",
   "id": "db1b4d08-9a6e-40f3-903e-4031826e7689",
   "metadata": {},
   "source": [
    "The download can be a time consuming process, Thus in the previous cell, the few extra parameters help deciding whether or not downloading a specific file from the server. This comes handy only in the case of re-using `ecodynelec` regularly, an occasional or one-time usage will not be affected by these extra parameters.\n",
    "\n",
    "* `threshold_minutes`: if the last modification of a file on the server occurred *less than* `threshold_minutes` *after* the last download of that file (if the downloaded file still exist on the user's computer too), the remote file is not downloaded. **Default is 15 min**. The server \"modifies\" files regularly, either with no changes in the data (simple server maintenance) or some data modifications (as new information comes in). The parameter allows to skip a file if the file on the server is considered as not new enough.\n",
    "\n",
    "* `threshold_size`: If the file has been partially downloaded, but the size of the local file is *less than* `threshold_size` of the server file (i.e. downloaded one is *significantly* smaller than the file on server), then the file is downloaded again. **Default is 90%**, i.e. the local copy must be less than 90% of the size of the remote to force the download. For whatever reason, a download may fail half way (connection issue, manually stopping a too-long process, etc.). In such case, `threshold_minutes` may prevent to resume the download. For this reason, `threshold_size` was added to still force a download even if a file does not comply with the `threshold_minutes` rule."
   ]
  }
 ],
 "metadata": {
  "kernelspec": {
   "display_name": "Python 3 (ipykernel)",
   "language": "python",
   "name": "python3"
  },
  "language_info": {
   "codemirror_mode": {
    "name": "ipython",
    "version": 3
   },
   "file_extension": ".py",
   "mimetype": "text/x-python",
   "name": "python",
   "nbconvert_exporter": "python",
   "pygments_lexer": "ipython3",
   "version": "3.8.10"
  }
 },
 "nbformat": 4,
 "nbformat_minor": 5
}
