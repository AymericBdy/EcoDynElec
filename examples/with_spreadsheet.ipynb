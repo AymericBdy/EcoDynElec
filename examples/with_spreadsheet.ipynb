{
 "cells": [
  {
   "cell_type": "markdown",
   "id": "29897181-aefe-4e70-8072-3571ae2658e7",
   "metadata": {
    "tags": []
   },
   "source": [
    "# Using with a spreadsheet-based configuration"
   ]
  },
  {
   "cell_type": "markdown",
   "id": "c965ce21-a11a-4554-8192-07e6ceba5d17",
   "metadata": {},
   "source": [
    "`ecodynelec` offers the possibility to configure the execution via a spreadsheet, for more user-friendly handling. This tutorial shows the different steps and possibilities in this regard. As `ecodynelec` is firstly designed for research purposes, there also is the possibility to entirely rely on a python-based configuration , as developed  in the \"[Using fully with Python](https://ecodynelec.readthedocs.io/en/latest/examples/with_python.html)\" tutorial."
   ]
  },
  {
   "cell_type": "markdown",
   "id": "af540f31-8ed6-4e03-a7d6-4c3c7d955b58",
   "metadata": {
    "tags": []
   },
   "source": [
    "## Initialization"
   ]
  },
  {
   "cell_type": "markdown",
   "id": "667f35b8-46c8-4373-b322-963ebd5a2684",
   "metadata": {},
   "source": [
    "To download and install `ecodynelec` to being used as a python package, the user is referred to either the [getting started tutorial](https://ecodynelec.readthedocs.io/en/latest/examples/getting_started.html)."
   ]
  },
  {
   "cell_type": "markdown",
   "id": "ce3f92af-9b9e-4e1c-9e98-576ddac20ecf",
   "metadata": {
    "tags": []
   },
   "source": [
    "## Configuration"
   ]
  },
  {
   "cell_type": "markdown",
   "id": "dbe7c006-f407-4a24-8175-ceb6936eeac3",
   "metadata": {},
   "source": [
    "The configuration of `ecodynelec` is to be handled in a spreadsheet. Figure 1-3 show the three sections of the spreadsheet used in this example. The spreadsheet can be downloaded from the [github repository](https://github.com/LESBAT-HEIG-VD/EcoDynElec/raw/main/examples/Spreadsheet_example.xlsx).\n",
    "\n",
    "The configuration is composed of 3 parts. The detail about the meaning of each is developed in the [input data section](https://ecodynelec.readthedocs.io/en/latest/data_input/parameters.html)."
   ]
  },
  {
   "cell_type": "markdown",
   "id": "756fa192-eeca-4693-b1d5-27d2cdf3f822",
   "metadata": {},
   "source": [
    "![Main Tab Spreadsheet](https://github.com/LESBAT-HEIG-VD/EcoDynElec/blob/main/docs/examples/images/ParameterExcel_ParamExample.png?raw=true)\\\n",
    "*Figure 1: Spreadsheet for configuration: main Parameter tab*\n",
    "\n",
    "the <u>first tab</u> (*Figure 1*) contains the elements to configure the execution itself."
   ]
  },
  {
   "cell_type": "markdown",
   "id": "ce8babb8-1da3-438c-aaae-a7d5c0ee9f9b",
   "metadata": {},
   "source": [
    "![Filepath Tab Spreadsheet](https://github.com/LESBAT-HEIG-VD/EcoDynElec/blob/main/docs/examples/images/ParameterExcel_PathsExample.png?raw=true)\\\n",
    "*Figure 2: Spreadsheet for configuration: Paths tab*\n",
    "\n",
    "the <u>second tab</u> (*Figure 2*) deals with all paths to information files, directory containing information, or where to write and save information before, during and after the computation. **Note** that, for the `generation`, `exchanges` and `savedir` directories fields, the specified directory *will be created if it does not already exist*. For every other file path element, *a default file* is used if the field is left blank, and an error is returned if the information passed does not correspond to any existing file on your local machine."
   ]
  },
  {
   "cell_type": "markdown",
   "id": "d1b68fb9-dcb0-4b47-8c74-84912b6170ac",
   "metadata": {},
   "source": [
    "![Server tab Spreadsheet](https://github.com/LESBAT-HEIG-VD/EcoDynElec/blob/main/docs/examples/images/ParameterExcel_ServerExample.png?raw=true)\\\n",
    "*Figure 3: Spreadsheet for configuration: Server tab*\n",
    "\n",
    "the <u>third tab</u> (*Figure 3*) deals with information related to the ENTSO-E server, as electricity data from the ENTSO-E server is at the center of `ecodynelec`. More on this topic is covered on the next paragraph and on the dedicated [downloading tutorial](https://ecodynelec.readthedocs.io/en/latest/examples/downloading.html). **Note** that per default, the field `use server` is set to FALSE, i.e. no download will occur. Also note that the `username` field is supposed to be an email address."
   ]
  },
  {
   "cell_type": "markdown",
   "id": "d7dabfbb-6e99-4a4a-81e3-9f64d6fae9a5",
   "metadata": {},
   "source": [
    "### Downloading Entso-E data"
   ]
  },
  {
   "cell_type": "markdown",
   "id": "6ff6c569-1df4-49e8-ae69-c8586dc3804a",
   "metadata": {},
   "source": [
    "The [downloading tutorial](https://ecodynelec.readthedocs.io/en/latest/examples/downloading.html) covers the specificities about how to download the ENTSO-E data or include the download as part of the `ecodynelec` pipeline execution. This feature is not triggered per default and `ecodynelec` is expecting to find already downloaded ENTSO-E files."
   ]
  },
  {
   "cell_type": "markdown",
   "id": "3942ac9f-ff5f-40d5-bb7f-788e670df11c",
   "metadata": {
    "tags": []
   },
   "source": [
    "## Execution"
   ]
  },
  {
   "cell_type": "markdown",
   "id": "0100df2c-80b8-47f4-8141-0f96d0578d98",
   "metadata": {},
   "source": [
    "`ecodynelec` is build out of a myriad of modules that can be used relatively independently, under the condition that inputs data is shaped the correct way. Fortunately, the entire pipeline starting from a set of parameters and computing down to the calculation of impact metrics.\n",
    "\n",
    "The usage of this entire pipeline is demonstrated below. This pipeline allows to save results into files (c.f. paragraph on [configuration](https://ecodynelec.readthedocs.io/en/latest/examples/with_spreadsheet.html#configuration)). However results are also always returned for further in-script use. These results are stored in the `impacts` variable for later paragraphs in this tutorial."
   ]
  },
  {
   "cell_type": "code",
   "execution_count": null,
   "id": "54714993-014f-48af-8344-01646f557bb8",
   "metadata": {
    "ExecuteTime": {
     "start_time": "2023-05-03T16:23:09.199642Z",
     "end_time": "2023-05-03T16:23:09.774345Z"
    }
   },
   "outputs": [],
   "source": [
    "from ecodynelec.pipelines import execute"
   ]
  },
  {
   "cell_type": "code",
   "execution_count": null,
   "outputs": [],
   "source": [
    "from ecodynelec.parameter import Parameter\n",
    "p = Parameter(excel='./Spreadsheet_download.xlsx')\n",
    "print('p is ', p)"
   ],
   "metadata": {
    "collapsed": false,
    "ExecuteTime": {
     "start_time": "2023-05-03T16:23:09.774345Z",
     "end_time": "2023-05-03T16:23:10.486043Z"
    }
   }
  },
  {
   "cell_type": "code",
   "execution_count": null,
   "id": "c1e6df9b-eccd-413d-9e1d-fa45234b24ce",
   "metadata": {
    "ExecuteTime": {
     "start_time": "2023-05-03T16:23:13.618347Z",
     "end_time": "2023-05-03T16:24:36.002418Z"
    }
   },
   "outputs": [],
   "source": [
    "from ecodynelec.progress_info import ProgressInfo\n",
    "\n",
    "impacts = execute(config=\"./Spreadsheet_download.xlsx\", progress_bar=ProgressInfo())"
   ]
  },
  {
   "cell_type": "markdown",
   "id": "2dd3855b-1991-41f1-a93e-4cb2d4a67f0e",
   "metadata": {
    "tags": []
   },
   "source": [
    "## Outcome and Visualization"
   ]
  },
  {
   "cell_type": "markdown",
   "id": "50ada4c2-b9fa-4cdd-83b7-138fb0a84abc",
   "metadata": {},
   "source": [
    "The outcome is stored in files and returned for further in-script use. In the previous section, results were stored in the `impacts` variable. The current section highlights the content returned and shows some basic possibilities for data visualization."
   ]
  },
  {
   "cell_type": "code",
   "execution_count": null,
   "id": "3c65c8c0-107a-49c3-b5d1-61db9d4b8c99",
   "metadata": {
    "tags": [],
    "ExecuteTime": {
     "start_time": "2023-05-03T16:24:39.580600Z",
     "end_time": "2023-05-03T16:24:39.588634Z"
    }
   },
   "outputs": [],
   "source": [
    "import numpy as np\n",
    "import pandas as pd"
   ]
  },
  {
   "cell_type": "markdown",
   "id": "f50396b9-44ab-4d78-9d29-a2e0b70ef222",
   "metadata": {},
   "source": [
    "### Description of the outcome"
   ]
  },
  {
   "cell_type": "markdown",
   "id": "784d268d-7ce2-4190-aef9-f6226b754bce",
   "metadata": {},
   "source": [
    "The `impacts` variable contains a collection of tables. This collection is a `dict` with one `Global` key, and one other key per impact category:"
   ]
  },
  {
   "cell_type": "code",
   "execution_count": null,
   "outputs": [],
   "source": [
    "print(impacts.keys())"
   ],
   "metadata": {
    "collapsed": false,
    "ExecuteTime": {
     "start_time": "2023-05-03T16:24:41.452462Z",
     "end_time": "2023-05-03T16:24:41.463680Z"
    }
   }
  },
  {
   "cell_type": "markdown",
   "id": "efc5fb02-7541-43ae-bfab-4a6dfbb25d3d",
   "metadata": {},
   "source": [
    "The `Global` table is the *sum across all technologies* for each index, as it is shown for the first few time steps:"
   ]
  },
  {
   "cell_type": "code",
   "execution_count": null,
   "id": "aa4a5128-de50-4223-be6c-446c0070d05e",
   "metadata": {
    "ExecuteTime": {
     "start_time": "2023-05-03T16:24:43.676145Z",
     "end_time": "2023-05-03T16:24:43.700425Z"
    }
   },
   "outputs": [],
   "source": [
    "display(impacts['Global'].head())"
   ]
  },
  {
   "cell_type": "markdown",
   "id": "a8ea47d3-0eaf-4774-b6b4-166429a2561e",
   "metadata": {},
   "source": [
    "The other tables are, for each impact category, the breakdown into all possible sources:"
   ]
  },
  {
   "cell_type": "code",
   "execution_count": null,
   "id": "802f3c24-51fd-49ef-a908-fe4c5e8a3d0c",
   "metadata": {
    "ExecuteTime": {
     "start_time": "2023-05-03T16:24:44.725810Z",
     "end_time": "2023-05-03T16:24:44.798818Z"
    }
   },
   "outputs": [],
   "source": [
    "for i in impacts: # Iterate for all impact categories\n",
    "    if i=='Global': continue; # Skip the Global, already visualized above.\n",
    "    \n",
    "    print(f\"#############\\nimpacts for {i}:\")\n",
    "    display( impacts[i].head(3).T ) # Transpose table for readability"
   ]
  },
  {
   "cell_type": "markdown",
   "id": "7cfc5f53-13dd-4bf2-bb5f-a268b8bc337e",
   "metadata": {},
   "source": [
    "### Group per country"
   ]
  },
  {
   "cell_type": "markdown",
   "id": "439bf154-db50-4f10-adf6-0ba7d7f20508",
   "metadata": {},
   "source": [
    "The following piece of code suggests a basic visualization of the Climate Change category, grouping the results per country of origin of the tracked electricity."
   ]
  },
  {
   "cell_type": "code",
   "execution_count": null,
   "id": "d2ccb2b6-c37b-4e95-a909-a4513e9c383f",
   "metadata": {
    "ExecuteTime": {
     "start_time": "2023-05-03T16:24:46.051026Z",
     "end_time": "2023-05-03T16:24:46.071015Z"
    }
   },
   "outputs": [],
   "source": [
    "def compute_per_country(results):\n",
    "    \"\"\"Function to group results per country\"\"\"\n",
    "    countries = np.unique([c.split(\"_\")[-1] for c in results.columns]) # List of countries\n",
    "    \n",
    "    per_country = []\n",
    "    for c in countries:\n",
    "        cols = [k for k in results.columns if k[-3:]==f\"_{c}\"]\n",
    "        per_country.append(pd.Series(results.loc[:,cols].sum(axis=1), name=c))\n",
    "        \n",
    "    return pd.concat(per_country,axis=1)"
   ]
  },
  {
   "cell_type": "code",
   "execution_count": null,
   "id": "915c9d6b-bb9d-4873-8957-a3253c01033b",
   "metadata": {
    "ExecuteTime": {
     "start_time": "2023-05-03T16:24:46.526312Z",
     "end_time": "2023-05-03T16:24:47.833125Z"
    }
   },
   "outputs": [],
   "source": [
    "gwp_per_country = compute_per_country(impacts['Climate Change']) # Group Climate Change index impacts per country\n",
    "gwp_per_country.plot.area(figsize=(12,4), legend='reverse', color=['r','w','y','b','c','k'],\n",
    "                          title=\"Some visualization of the Climate Change index aggregated per country\"); # Build the graph"
   ]
  },
  {
   "cell_type": "markdown",
   "id": "03b4b1f1-2d61-4e97-92e1-41f3407455e7",
   "metadata": {},
   "source": [
    "### Group per production type"
   ]
  },
  {
   "cell_type": "markdown",
   "id": "592e56d2-fd52-4ae6-ac7c-066dce585c50",
   "metadata": {},
   "source": [
    "The following piece of code suggests a basic visualization of the Climate Change category, grouping the results per technology of origin of the tracked electricity."
   ]
  },
  {
   "cell_type": "code",
   "execution_count": null,
   "id": "92f96f20-b2aa-464e-8268-5ad3c36c79f0",
   "metadata": {
    "ExecuteTime": {
     "start_time": "2023-05-03T16:24:48.542936Z",
     "end_time": "2023-05-03T16:24:48.556388Z"
    }
   },
   "outputs": [],
   "source": [
    "def compute_per_type(results):\n",
    "    \"\"\"Function to group datasets per type of unit, regardless of the country of origin\"\"\"\n",
    "    unit_list = np.unique([k[:-3] if k[-3]==\"_\" else k for k in results.columns]) # List the different production units\n",
    "    \n",
    "    per_unit = []\n",
    "    for u in unit_list:\n",
    "        cols = [k for k in results.columns if k[:-3]==u] # collect the useful columns\n",
    "        per_unit.append(pd.Series(results.loc[:,cols].sum(axis=1), name=u)) # aggregate\n",
    "\n",
    "    return pd.concat(per_unit,axis=1)"
   ]
  },
  {
   "cell_type": "code",
   "execution_count": null,
   "id": "8799ec6e-62b1-477b-bb2f-393d4f6e05af",
   "metadata": {
    "ExecuteTime": {
     "start_time": "2023-05-03T16:24:49.153525Z",
     "end_time": "2023-05-03T16:24:50.191991Z"
    }
   },
   "outputs": [],
   "source": [
    "es13_per_type = compute_per_type(impacts['Climate Change']) # Group Climate Change index impacts per country\n",
    "es13_per_type.plot.area(figsize=(12,8), legend='reverse',\n",
    "                        title=\"Some visualization of the Climate Change index aggregated per source\"); # Build the graph"
   ]
  },
  {
   "cell_type": "code",
   "execution_count": null,
   "outputs": [],
   "source": [],
   "metadata": {
    "collapsed": false
   }
  }
 ],
 "metadata": {
  "kernelspec": {
   "display_name": "Python 3 (ipykernel)",
   "language": "python",
   "name": "python3"
  },
  "language_info": {
   "codemirror_mode": {
    "name": "ipython",
    "version": 3
   },
   "file_extension": ".py",
   "mimetype": "text/x-python",
   "name": "python",
   "nbconvert_exporter": "python",
   "pygments_lexer": "ipython3",
   "version": "3.8.10"
  }
 },
 "nbformat": 4,
 "nbformat_minor": 5
}
