{
 "cells": [
  {
   "cell_type": "markdown",
   "id": "d704843d",
   "metadata": {},
   "source": [
    "\\\n",
    "<font color=blue size=7>**Handle parameters from Python**</font>\n",
    "\n",
    "This notebook contains an example to create parameters from the Python interface directly.\n",
    "+ First, the process is entirely done by hand\n",
    "+ Then the possibility to load from a spreadsheet to the parameter object is highlighted.\n",
    "\n",
    "*Note: the example section provides only data for default countries and for Feb. 01, 2017.*"
   ]
  },
  {
   "cell_type": "markdown",
   "id": "570e0ca8",
   "metadata": {},
   "source": [
    "# Creating parameters and execute DYNAMICAL"
   ]
  },
  {
   "cell_type": "code",
   "execution_count": 1,
   "id": "ed352bab",
   "metadata": {},
   "outputs": [],
   "source": [
    "from dynamical.parameter import Parameter # Import the class to manipulate parameters\n",
    "from dynamical.easy_use import execute # Import function managing the whole execution"
   ]
  },
  {
   "cell_type": "code",
   "execution_count": 2,
   "id": "8a63dfef",
   "metadata": {},
   "outputs": [
    {
     "data": {
      "text/plain": [
       "ctry --> ['AT', 'CH', 'CZ', 'DE', 'FR', 'IT']\n",
       "target --> CH\n",
       "start --> 2017-02-01 00:00:00\n",
       "end --> 2017-02-01 23:00:00\n",
       "freq --> H\n",
       "timezone --> CET\n",
       "cst_imports --> False\n",
       "net_exchanges --> False\n",
       "network_losses --> False\n",
       "sg_imports --> False\n",
       "residual_local --> False\n",
       "residual_global --> False\n",
       "Filepath to generation --> None\n",
       "Filepath to exchanges --> None\n",
       "Filepath to raw_generation --> None\n",
       "Filepath to raw_exchanges --> None\n",
       "Filepath to savedir --> None\n",
       "Filepath to savegen --> None\n",
       "Filepath to saveimp --> None\n",
       "Filepath to mapping --> None\n",
       "Filepath to neighbours --> None\n",
       "Filepath to gap --> None\n",
       "Filepath to swissGrid --> None\n",
       "Filepath to networkLosses --> None"
      ]
     },
     "execution_count": 2,
     "metadata": {},
     "output_type": "execute_result"
    }
   ],
   "source": [
    "my_param = Parameter() # Initialize a Parameter object\n",
    "my_param # visualize the default content"
   ]
  },
  {
   "cell_type": "markdown",
   "id": "5ff5e8d1",
   "metadata": {},
   "source": [
    "The next cell modifies <font color=green>**execution**</font> parameters:"
   ]
  },
  {
   "cell_type": "code",
   "execution_count": 3,
   "id": "06987ee9",
   "metadata": {},
   "outputs": [],
   "source": [
    "## Change the starting date\n",
    "my_param.start = '2017-02-01 05:00'\n",
    "\n",
    "## Change the time step\n",
    "my_param.freq = \"15min\"\n",
    "\n",
    "## Consider local CH generation\n",
    "my_param.residual_local = True"
   ]
  },
  {
   "cell_type": "markdown",
   "id": "cc664fcd",
   "metadata": {},
   "source": [
    "The next cell modifies <font color=green>**file path**</font> parameters:"
   ]
  },
  {
   "cell_type": "code",
   "execution_count": 6,
   "id": "758bce27",
   "metadata": {},
   "outputs": [],
   "source": [
    "# Indicate where to find raw generation data\n",
    "my_param.path.raw_generation = \"./test_data/generations/\"\n",
    "\n",
    "# Indicate where to find raw exchange data\n",
    "my_param.path.raw_exchanges = \"./test_data/exchanges/\""
   ]
  },
  {
   "cell_type": "markdown",
   "id": "35d8abab",
   "metadata": {},
   "source": [
    "The next cell visualizes the changes made in the parameter object"
   ]
  },
  {
   "cell_type": "code",
   "execution_count": 7,
   "id": "30b2f405",
   "metadata": {},
   "outputs": [
    {
     "name": "stdout",
     "output_type": "stream",
     "text": [
      "ctry --> ['AT', 'CH', 'CZ', 'DE', 'FR', 'IT']\n",
      "target --> CH\n",
      "start --> 2017-02-01 05:00:00\n",
      "end --> 2017-02-01 23:00:00\n",
      "freq --> 15min\n",
      "timezone --> CET\n",
      "cst_imports --> False\n",
      "net_exchanges --> False\n",
      "network_losses --> False\n",
      "sg_imports --> False\n",
      "residual_local --> True\n",
      "residual_global --> False\n",
      "Filepath to generation --> None\n",
      "Filepath to exchanges --> None\n",
      "Filepath to raw_generation --> /home/francois/Documents/EcoDynBat/EcoDyn/dynamical/examples/test_data/generations/\n",
      "Filepath to raw_exchanges --> /home/francois/Documents/EcoDynBat/EcoDyn/dynamical/examples/test_data/exchanges/\n",
      "Filepath to savedir --> None\n",
      "Filepath to savegen --> None\n",
      "Filepath to saveimp --> None\n",
      "Filepath to mapping --> None\n",
      "Filepath to neighbours --> None\n",
      "Filepath to gap --> None\n",
      "Filepath to swissGrid --> None\n",
      "Filepath to networkLosses --> None\n",
      "\n"
     ]
    }
   ],
   "source": [
    "print(my_param)"
   ]
  },
  {
   "cell_type": "code",
   "execution_count": 8,
   "id": "369d4eba",
   "metadata": {},
   "outputs": [],
   "source": [
    "impacts = execute(p=my_param, is_verbose=False) # Execute DYNAMICAL from the parameter object"
   ]
  },
  {
   "cell_type": "code",
   "execution_count": 9,
   "id": "3ba9ca83",
   "metadata": {},
   "outputs": [
    {
     "data": {
      "text/plain": [
       "GWP                    0.323312\n",
       "CED_renewable          1.582290\n",
       "CED_non-renewable      8.301846\n",
       "ES2013               377.853476\n",
       "dtype: float64"
      ]
     },
     "execution_count": 9,
     "metadata": {},
     "output_type": "execute_result"
    }
   ],
   "source": [
    "### Display a summary of results\n",
    "impacts['Global'].mean()"
   ]
  },
  {
   "cell_type": "markdown",
   "id": "e0540ce6",
   "metadata": {},
   "source": [
    "# Loading parameters from an xlsx spreadsheet"
   ]
  },
  {
   "cell_type": "code",
   "execution_count": 10,
   "id": "163e8ee7",
   "metadata": {},
   "outputs": [
    {
     "data": {
      "text/plain": [
       "ctry --> ['AT', 'CH', 'DE', 'FR', 'IT']\n",
       "target --> CH\n",
       "start --> 2017-02-01 00:00:00\n",
       "end --> 2017-02-01 23:00:00\n",
       "freq --> H\n",
       "timezone --> CET\n",
       "cst_imports --> False\n",
       "net_exchanges --> False\n",
       "network_losses --> False\n",
       "sg_imports --> False\n",
       "residual_local --> False\n",
       "residual_global --> False\n",
       "Filepath to generation --> None\n",
       "Filepath to exchanges --> None\n",
       "Filepath to raw_generation --> /home/francois/Documents/EcoDynBat/EcoDyn/dynamical/examples/test_data/generations/\n",
       "Filepath to raw_exchanges --> /home/francois/Documents/EcoDynBat/EcoDyn/dynamical/examples/test_data/exchanges/\n",
       "Filepath to savedir --> None\n",
       "Filepath to savegen --> None\n",
       "Filepath to saveimp --> None\n",
       "Filepath to mapping --> None\n",
       "Filepath to neighbours --> None\n",
       "Filepath to gap --> None\n",
       "Filepath to swissGrid --> None\n",
       "Filepath to networkLosses --> None"
      ]
     },
     "execution_count": 10,
     "metadata": {},
     "output_type": "execute_result"
    }
   ],
   "source": [
    "my_param = Parameter() # Initialize the parameter object\n",
    "my_param.from_excel(\"Spreadsheet_test.xlsx\") # Load from spreadsheet\n",
    "my_param # Display the parameters"
   ]
  },
  {
   "cell_type": "markdown",
   "id": "a0e11eb9",
   "metadata": {},
   "source": [
    "# Documentation"
   ]
  },
  {
   "cell_type": "code",
   "execution_count": 11,
   "id": "78f8e553",
   "metadata": {},
   "outputs": [
    {
     "name": "stdout",
     "output_type": "stream",
     "text": [
      "Help on Parameter in module dynamical.parameter object:\n",
      "\n",
      "class Parameter(builtins.object)\n",
      " |  Parameter object adapted to the execution of the algorithm.\n",
      " |  \n",
      " |  Attributes:\n",
      " |      - path: FilePath object containing information about path to different documents.\n",
      " |      - ctry: the (sorted) list of countries to include\n",
      " |      - target: the target country where to compute the mix and impact.\n",
      " |      - start: starting date (utc)\n",
      " |      - end: ending date (utc)\n",
      " |      - freq: the time step (15min, 30min, H, d, W, M or Y)\n",
      " |      - timezone: the timezone to convert in, in the end\n",
      " |      - cst_imports: boolean to consider a constant impact for the imports\n",
      " |      - sg_imports: boolean to replace Entso exchanges by SwissGrid exchanges\n",
      " |      - net_exchanges: boolean to consider net exchanges at each border (no bidirectional)\n",
      " |      - residual_local: to include a residual (for CH) as if it was all consumed in the country.\n",
      " |      - residual_global: to include a residual (for CH) that can be exchanged.\n",
      " |  \n",
      " |  Methods:\n",
      " |      - from_excel: to load parameters from a excel sheet\n",
      " |      - __setattr__: to allow simple changes of parameter values.\n",
      " |                  + easy use: parameter_object.attribute = new_value\n",
      " |                  + start and end remain datetimes even if strings are passed\n",
      " |                  + ctry remain a sorted list even if an unsorted list is passed\n",
      " |  \n",
      " |  Methods defined here:\n",
      " |  \n",
      " |  __init__(self)\n",
      " |      Initialize self.  See help(type(self)) for accurate signature.\n",
      " |  \n",
      " |  __repr__(self)\n",
      " |      Return repr(self).\n",
      " |  \n",
      " |  __setattr__(self, name, value)\n",
      " |      Implement setattr(self, name, value).\n",
      " |  \n",
      " |  from_excel(self, excel)\n",
      " |  \n",
      " |  ----------------------------------------------------------------------\n",
      " |  Data descriptors defined here:\n",
      " |  \n",
      " |  __dict__\n",
      " |      dictionary for instance variables (if defined)\n",
      " |  \n",
      " |  __weakref__\n",
      " |      list of weak references to the object (if defined)\n",
      "\n"
     ]
    }
   ],
   "source": [
    "help(Parameter())"
   ]
  },
  {
   "cell_type": "code",
   "execution_count": 12,
   "id": "14af4957",
   "metadata": {},
   "outputs": [
    {
     "name": "stdout",
     "output_type": "stream",
     "text": [
      "Help on class Filepath in module dynamical.parameter:\n",
      "\n",
      "class Filepath(builtins.object)\n",
      " |  Filepath object adapted to the execution of the algorithm and the Parameter class.\n",
      " |  \n",
      " |  Attributes:\n",
      " |      - rootdir: root directory of the experiment (highest common folder).\n",
      " |              Useful mainly within the class\n",
      " |      - generation: directory containing Entso generation files\n",
      " |      - exchanges: directory containing Entso cross-border flow files\n",
      " |      - savedir: directory where to save the results. Default: None (no saving)\n",
      " |      - savgen: directory where to save generation from raw files. Default: None (no saving)\n",
      " |      - saveimp: directory to save exchange from raw files. Default: None (no saving)\n",
      " |      - mapping: file with the mapping (impact per kWh produced for each production unit)\n",
      " |      - neighbours: file gathering the list of neighbours of each european country\n",
      " |      - gap: file with estimations of the nature of the residual\n",
      " |      - swissGrid: file with production and cross-border flows from Swiss Grid\n",
      " |      - networkLosses: file with estimation of the power grid losses.\n",
      " |  \n",
      " |  Methods:\n",
      " |      - from_excel: load the attributes from a excel sheet.\n",
      " |  \n",
      " |  Methods defined here:\n",
      " |  \n",
      " |  __init__(self)\n",
      " |      Initialize self.  See help(type(self)) for accurate signature.\n",
      " |  \n",
      " |  __repr__(self)\n",
      " |      Return repr(self).\n",
      " |  \n",
      " |  __setattr__(self, name, value)\n",
      " |      Implement setattr(self, name, value).\n",
      " |  \n",
      " |  from_excel(self, excel)\n",
      " |  \n",
      " |  ----------------------------------------------------------------------\n",
      " |  Data descriptors defined here:\n",
      " |  \n",
      " |  __dict__\n",
      " |      dictionary for instance variables (if defined)\n",
      " |  \n",
      " |  __weakref__\n",
      " |      list of weak references to the object (if defined)\n",
      "\n"
     ]
    }
   ],
   "source": [
    "from dynamical.parameter import Filepath\n",
    "help(Filepath)"
   ]
  },
  {
   "cell_type": "code",
   "execution_count": null,
   "id": "9da01cb4",
   "metadata": {},
   "outputs": [],
   "source": []
  }
 ],
 "metadata": {
  "kernelspec": {
   "display_name": "EcoDyn",
   "language": "python",
   "name": "env_ecodyn"
  },
  "language_info": {
   "codemirror_mode": {
    "name": "ipython",
    "version": 3
   },
   "file_extension": ".py",
   "mimetype": "text/x-python",
   "name": "python",
   "nbconvert_exporter": "python",
   "pygments_lexer": "ipython3",
   "version": "3.7.11"
  },
  "toc": {
   "base_numbering": 1,
   "nav_menu": {},
   "number_sections": true,
   "sideBar": true,
   "skip_h1_title": false,
   "title_cell": "Table of Contents",
   "title_sidebar": "Contents",
   "toc_cell": false,
   "toc_position": {},
   "toc_section_display": true,
   "toc_window_display": false
  }
 },
 "nbformat": 4,
 "nbformat_minor": 5
}
