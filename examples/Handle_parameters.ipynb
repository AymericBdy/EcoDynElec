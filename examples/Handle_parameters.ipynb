{
 "cells": [
  {
   "cell_type": "markdown",
   "id": "d704843d",
   "metadata": {},
   "source": [
    "# Handle parameters from Python\n",
    "\n",
    "This page contains an example to create parameters from the Python interface directly.\n",
    "+ First, the process is entirely done by hand\n",
    "+ Then the possibility to load from a spreadsheet to the parameter object is highlighted.\n",
    "\n",
    "*Note: the example section provides only data for default countries and for Feb. 01, 2017.*"
   ]
  },
  {
   "cell_type": "markdown",
   "id": "570e0ca8",
   "metadata": {},
   "source": [
    "## Creating parameters and execute DYNAMICAL"
   ]
  },
  {
   "cell_type": "code",
   "execution_count": 1,
   "id": "ed352bab",
   "metadata": {},
   "outputs": [],
   "source": [
    "import os, sys\n",
    "sys.path.insert(0, os.path.abspath(\"../\"))\n",
    "from dynamical.parameter import Parameter # Import the class to manipulate parameters\n",
    "from dynamical.easy_use import execute # Import function managing the whole execution"
   ]
  },
  {
   "cell_type": "code",
   "execution_count": 2,
   "id": "8a63dfef",
   "metadata": {},
   "outputs": [
    {
     "data": {
      "text/plain": [
       "ctry --> ['AT', 'CH', 'CZ', 'DE', 'FR', 'IT']\n",
       "target --> CH\n",
       "start --> 2017-02-01 00:00:00\n",
       "end --> 2017-02-01 23:00:00\n",
       "freq --> H\n",
       "timezone --> UTC\n",
       "cst_imports --> False\n",
       "net_exchanges --> False\n",
       "network_losses --> False\n",
       "sg_imports --> False\n",
       "residual_local --> False\n",
       "residual_global --> False\n",
       "data_cleaning --> True\n",
       "\n",
       "Filepath to generation --> None\n",
       "Filepath to exchanges --> None\n",
       "Filepath to savedir --> None\n",
       "Filepath to fu_vector --> None\n",
       "Filepath to mapping --> None\n",
       "Filepath to neighbours --> None\n",
       "Filepath to gap --> None\n",
       "Filepath to swissGrid --> None\n",
       "Filepath to networkLosses --> None\n",
       " \n",
       "Server for useServer --> False\n",
       "Server for host --> sftp-transparency.entsoe.eu\n",
       "Server for port --> 22\n",
       "Server for username --> None\n",
       "Server for password --> \n",
       "Server for removeUnused --> False\n",
       "Server for _remoteGenerationDir --> /TP_export/AggregatedGenerationPerType_16.1.B_C/\n",
       "Server for _remoteExchangesDir --> /TP_export/PhysicalFlows_12.1.G/"
      ]
     },
     "execution_count": 2,
     "metadata": {},
     "output_type": "execute_result"
    }
   ],
   "source": [
    "my_param = Parameter() # Initialize a Parameter object\n",
    "my_param # visualize the default content"
   ]
  },
  {
   "cell_type": "markdown",
   "id": "5ff5e8d1",
   "metadata": {},
   "source": [
    "The next cell modifies <font color=green>**execution**</font> parameters:"
   ]
  },
  {
   "cell_type": "code",
   "execution_count": 7,
   "id": "06987ee9",
   "metadata": {},
   "outputs": [],
   "source": [
    "## Change the starting date\n",
    "my_param.start = '2017-02-01 05:00'\n",
    "\n",
    "## Change the time step\n",
    "my_param.freq = \"15min\"\n",
    "\n",
    "## Turn off the auto-complete\n",
    "my_param.data_cleaning = False"
   ]
  },
  {
   "cell_type": "markdown",
   "id": "cc664fcd",
   "metadata": {},
   "source": [
    "The next cell modifies <font color=green>**file path**</font> parameters:"
   ]
  },
  {
   "cell_type": "code",
   "execution_count": 4,
   "id": "758bce27",
   "metadata": {},
   "outputs": [],
   "source": [
    "# Indicate where to find generation data\n",
    "my_param.path.generation = \"./test_data/generations/\"\n",
    "\n",
    "# Indicate where to find exchange data\n",
    "my_param.path.exchanges = \"./test_data/exchanges/\""
   ]
  },
  {
   "cell_type": "markdown",
   "id": "35d8abab",
   "metadata": {},
   "source": [
    "The next cell visualizes the changes made in the parameter object"
   ]
  },
  {
   "cell_type": "code",
   "execution_count": 8,
   "id": "30b2f405",
   "metadata": {},
   "outputs": [
    {
     "name": "stdout",
     "output_type": "stream",
     "text": [
      "ctry --> ['AT', 'CH', 'CZ', 'DE', 'FR', 'IT']\n",
      "target --> CH\n",
      "start --> 2017-02-01 05:00:00\n",
      "end --> 2017-02-01 23:00:00\n",
      "freq --> 15min\n",
      "timezone --> UTC\n",
      "cst_imports --> False\n",
      "net_exchanges --> False\n",
      "network_losses --> False\n",
      "sg_imports --> False\n",
      "residual_local --> False\n",
      "residual_global --> False\n",
      "data_cleaning --> False\n",
      "\n",
      "Filepath to generation --> /home/user/EcoDynBat/ecodyn/examples/test_data/generations/\n",
      "Filepath to exchanges --> /home/user/EcoDynBat/ecodyn/examples/test_data/exchanges/\n",
      "Filepath to savedir --> None\n",
      "Filepath to fu_vector --> None\n",
      "Filepath to mapping --> None\n",
      "Filepath to neighbours --> None\n",
      "Filepath to gap --> None\n",
      "Filepath to swissGrid --> None\n",
      "Filepath to networkLosses --> None\n",
      " \n",
      "Server for useServer --> False\n",
      "Server for host --> sftp-transparency.entsoe.eu\n",
      "Server for port --> 22\n",
      "Server for username --> None\n",
      "Server for password --> \n",
      "Server for removeUnused --> False\n",
      "Server for _remoteGenerationDir --> /TP_export/AggregatedGenerationPerType_16.1.B_C/\n",
      "Server for _remoteExchangesDir --> /TP_export/PhysicalFlows_12.1.G/\n",
      "\n"
     ]
    }
   ],
   "source": [
    "print(my_param)"
   ]
  },
  {
   "cell_type": "code",
   "execution_count": null,
   "id": "369d4eba",
   "metadata": {},
   "outputs": [],
   "source": [
    "impacts = execute(config=my_param, is_verbose=False) # Execute DYNAMICAL from the parameter object"
   ]
  },
  {
   "cell_type": "code",
   "execution_count": 9,
   "id": "3ba9ca83",
   "metadata": {},
   "outputs": [
    {
     "data": {
      "text/plain": [
       "GWP                    0.323312\n",
       "CED_renewable          1.582290\n",
       "CED_non-renewable      8.301846\n",
       "ES2013               377.853476\n",
       "dtype: float64"
      ]
     },
     "execution_count": 9,
     "metadata": {},
     "output_type": "execute_result"
    }
   ],
   "source": [
    "### Display a summary of results\n",
    "impacts['Global'].mean()"
   ]
  },
  {
   "cell_type": "markdown",
   "id": "e0540ce6",
   "metadata": {},
   "source": [
    "## Loading parameters from an xlsx spreadsheet"
   ]
  },
  {
   "cell_type": "markdown",
   "id": "312db0d6-8890-47fe-b0bc-bc99b058f0ac",
   "metadata": {},
   "source": [
    "A spreadsheet may be used for a user-friendlier interface. An example spreadsheet may be downloaded from the [GitLab repository](https://gitlab.com/fledee/ecodyn/-/blob/main/examples/Spreadsheet_example.xlsx)."
   ]
  },
  {
   "cell_type": "code",
   "execution_count": 10,
   "id": "163e8ee7",
   "metadata": {},
   "outputs": [
    {
     "data": {
      "text/plain": [
       "ctry --> ['AT', 'CH', 'DE', 'FR', 'IT']\n",
       "target --> CH\n",
       "start --> 2017-02-01 00:00:00\n",
       "end --> 2017-02-01 23:00:00\n",
       "freq --> H\n",
       "timezone --> CET\n",
       "cst_imports --> False\n",
       "net_exchanges --> False\n",
       "network_losses --> False\n",
       "sg_imports --> False\n",
       "residual_local --> False\n",
       "residual_global --> False\n",
       "Filepath to generation --> None\n",
       "Filepath to exchanges --> None\n",
       "Filepath to raw_generation --> /home/francois/Documents/EcoDynBat/EcoDyn/dynamical/examples/test_data/generations/\n",
       "Filepath to raw_exchanges --> /home/francois/Documents/EcoDynBat/EcoDyn/dynamical/examples/test_data/exchanges/\n",
       "Filepath to savedir --> None\n",
       "Filepath to savegen --> None\n",
       "Filepath to saveimp --> None\n",
       "Filepath to mapping --> None\n",
       "Filepath to neighbours --> None\n",
       "Filepath to gap --> None\n",
       "Filepath to swissGrid --> None\n",
       "Filepath to networkLosses --> None"
      ]
     },
     "execution_count": 10,
     "metadata": {},
     "output_type": "execute_result"
    }
   ],
   "source": [
    "my_param = Parameter() # Initialize the parameter object\n",
    "my_param.from_excel(\"Spreadsheet_test.xlsx\") # Load from spreadsheet\n",
    "my_param # Display the parameters"
   ]
  }
 ],
 "metadata": {
  "kernelspec": {
   "display_name": "Python 3 (ipykernel)",
   "language": "python",
   "name": "python3"
  },
  "language_info": {
   "codemirror_mode": {
    "name": "ipython",
    "version": 3
   },
   "file_extension": ".py",
   "mimetype": "text/x-python",
   "name": "python",
   "nbconvert_exporter": "python",
   "pygments_lexer": "ipython3",
   "version": "3.8.10"
  },
  "toc": {
   "base_numbering": 1,
   "nav_menu": {},
   "number_sections": true,
   "sideBar": true,
   "skip_h1_title": false,
   "title_cell": "Table of Contents",
   "title_sidebar": "Contents",
   "toc_cell": false,
   "toc_position": {},
   "toc_section_display": true,
   "toc_window_display": false
  }
 },
 "nbformat": 4,
 "nbformat_minor": 5
}
