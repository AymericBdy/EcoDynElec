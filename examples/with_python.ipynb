{
 "cells": [
  {
   "cell_type": "markdown",
   "id": "0609b6d2-b4b8-43f2-a75d-a996d109d97f",
   "metadata": {},
   "source": [
    "# Using fully with Python"
   ]
  },
  {
   "cell_type": "markdown",
   "id": "e77ad7a1-0de7-48a9-9dd1-8428813db3b8",
   "metadata": {},
   "source": [
    "`ecodynelec` offers the possibility to being fully used via Python. This tutorial shows the different steps and possibilities, relying solely on operations doable within a python script or notebook. As the configuration of `ecodynelec` pipeline execution may benefit from more visual interaction, an alternative is suggested in the \"[Using with a spreadsheet-based configuraion](https://ecodynelec.readthedocs.io/en/latest/examples/with_spreadsheet.html)\" tutorial."
   ]
  },
  {
   "cell_type": "markdown",
   "id": "f2912360-db9d-4e49-a21f-4b762d9ae39b",
   "metadata": {
    "tags": []
   },
   "source": [
    "## Initialization"
   ]
  },
  {
   "cell_type": "markdown",
   "id": "670f2d87-e085-45df-9376-ebfb097f675a",
   "metadata": {},
   "source": [
    "To download and install `ecodynelec` to being used as a python package, the user is referred to either the [getting started tutorial](https://ecodynelec.readthedocs.io/en/latest/examples/getting_started.html)."
   ]
  },
  {
   "cell_type": "markdown",
   "id": "fab678a4-a928-4b13-9a93-40b6838eed2e",
   "metadata": {
    "tags": []
   },
   "source": [
    "## Configuration"
   ]
  },
  {
   "cell_type": "markdown",
   "id": "d5cadc59-df4d-4692-bc0e-a4bfc79e8e5d",
   "metadata": {},
   "source": [
    "The configuration of `ecodynelec` is handled by the `parameter` module. "
   ]
  },
  {
   "cell_type": "code",
   "execution_count": 1,
   "id": "96758f05-85cf-46c6-89c9-8b47de11459c",
   "metadata": {
    "tags": [],
    "ExecuteTime": {
     "start_time": "2023-05-03T14:29:57.556125Z",
     "end_time": "2023-05-03T14:29:58.128769Z"
    }
   },
   "outputs": [],
   "source": [
    "from ecodynelec.parameter import Parameter # Import the class to manipulate parameters"
   ]
  },
  {
   "cell_type": "markdown",
   "id": "68817eae-eb34-42fe-9ccc-8256a10b84ab",
   "metadata": {},
   "source": [
    "Python is an object oriented language. Thus a specific configuration can be built and stored in a `Parameter` object that will be called `my_config` in this tutorial. The next cell only initializes the configuration object with the default parameters."
   ]
  },
  {
   "cell_type": "code",
   "execution_count": 2,
   "id": "3c850a26-523f-44f7-a65c-d1cf9e59ac05",
   "metadata": {
    "ExecuteTime": {
     "start_time": "2023-05-03T14:29:58.126771Z",
     "end_time": "2023-05-03T14:29:58.133045Z"
    }
   },
   "outputs": [],
   "source": [
    "my_config = Parameter() # Initialize a configuration object"
   ]
  },
  {
   "cell_type": "markdown",
   "id": "883e8e3f-33e8-480d-aa24-0bdec9ee1b41",
   "metadata": {},
   "source": [
    "Before modifying the configuration, let's have a look at this default setting"
   ]
  },
  {
   "cell_type": "code",
   "execution_count": null,
   "id": "e5909eda-0463-4938-994b-c3be269e64b3",
   "metadata": {
    "ExecuteTime": {
     "start_time": "2023-04-12T11:39:25.202129Z",
     "end_time": "2023-04-12T11:39:25.240292Z"
    }
   },
   "outputs": [],
   "source": [
    "print(my_config)"
   ]
  },
  {
   "cell_type": "markdown",
   "id": "e2f91921-ec2c-4ec1-ad69-b43499d70786",
   "metadata": {},
   "source": [
    "The configuration is composed of 3 parts. The detail about the meaning of each is developed in the [input data section](https://ecodynelec.readthedocs.io/en/latest/data_input/parameters.html). Essentially:\n",
    "* the <u>first block</u> contains the elements to configure the execution itself. These elements are directly available and modifiable with the syntax `my_config.element`.\n",
    "* the <u>second block</u> deals with all paths to information files, directory containing information, or where to write and save information before, during and after the computation. It is accessible with the syntax `my_config.path.element`\n",
    "* the <u>third block</u> deals with information related to the ENTSO-E server, as electricity data from the ENTSO-E server is at the center of `ecodynelec`. More on this topic is covered on the next paragraph and on the dedicated [downloading tutorial](https://ecodynelec.readthedocs.io/en/latest/examples/downloading.html)."
   ]
  },
  {
   "cell_type": "markdown",
   "id": "89c334f0-b8f7-4f6c-a4dc-cba3bce0cada",
   "metadata": {},
   "source": [
    "The next cell partly modifies the execution configuration.\n",
    "* First the starting date is modified. Note that objects of the `Parameter` class will verify if this element is a date, and will raise an error if the format is not recognized.\n",
    "* Then we modify the size of time step (frequency) for the computation. Possibilities are specified in the [input data section](https://ecodynelec.readthedocs.io/en/latest/data_input/parameters.html).\n",
    "* Third in this example, the auto-completing feature is turned off."
   ]
  },
  {
   "cell_type": "code",
   "execution_count": 3,
   "id": "bd57e778-3ba3-4c93-88ff-3c524de28068",
   "metadata": {
    "ExecuteTime": {
     "start_time": "2023-05-03T14:29:58.135043Z",
     "end_time": "2023-05-03T14:29:58.185361Z"
    }
   },
   "outputs": [],
   "source": [
    "## Change the starting date\n",
    "my_config.start = '2017-02-01 00:00'\n",
    "\n",
    "## Change the time step\n",
    "my_config.freq = \"15min\"\n",
    "\n",
    "## Change the coutry list\n",
    "my_config.ctry = ['AT','CH','DE','FR','IT', 'CZ']\n",
    "\n",
    "## Turn off the auto-complete\n",
    "my_config.data_cleaning = False"
   ]
  },
  {
   "cell_type": "markdown",
   "id": "afceac4b-d49b-40cc-8e7a-c7372069a76f",
   "metadata": {},
   "source": [
    "The next cell partly modifies file path configuration. Here we modify the location of directories containing data downloaded from the ENTSO-E database."
   ]
  },
  {
   "cell_type": "code",
   "execution_count": 4,
   "id": "ea8ff6cd-4d99-4c4b-a55c-33751de70dd3",
   "metadata": {
    "ExecuteTime": {
     "start_time": "2023-05-03T14:29:58.173584Z",
     "end_time": "2023-05-03T14:29:58.200286Z"
    }
   },
   "outputs": [],
   "source": [
    "# Indicate where to find generation data\n",
    "my_config.path.generation = \"./test_data/downloads/generations/\"\n",
    "\n",
    "# Indicate where to find exchange data\n",
    "my_config.path.exchanges = \"./test_data/downloads/exchanges/\""
   ]
  },
  {
   "cell_type": "markdown",
   "id": "53f4902a-293b-4d20-916b-bb177ff259d1",
   "metadata": {},
   "source": [
    "Note that, for the `generation`, `exchanges` and `savedir` paths, the specified directory *will be created if it does not already exist*. For every other file path element, *a default file* is used if nothing is specified, and an error is returned if the information passed does not correspond to any existing file on your local machine."
   ]
  },
  {
   "cell_type": "markdown",
   "id": "fb8045a3-2c20-4c63-8ddd-8036c67a4d77",
   "metadata": {},
   "source": [
    "### Downloading Entso-E data"
   ]
  },
  {
   "cell_type": "markdown",
   "id": "32d0e496-6fd2-4f43-bf77-961113be4673",
   "metadata": {},
   "source": [
    "The [downloading tutorial](https://ecodynelec.readthedocs.io/en/latest/examples/downloading.html) covers the specificities about how to download the ENTSO-E data or include the download as part of the `ecodynelec` pipeline execution. This feature is not triggered per default and `ecodynelec` is expecting to find already downloaded ENTSO-E files."
   ]
  },
  {
   "cell_type": "markdown",
   "id": "ef859f5d-3e25-4892-a423-c8ba9aad0c39",
   "metadata": {
    "tags": []
   },
   "source": [
    "## Execution"
   ]
  },
  {
   "cell_type": "markdown",
   "id": "6fe108db-6ac2-4d4e-8edd-1014e12eac31",
   "metadata": {},
   "source": [
    "`ecodynelec` is build out of a myriad of modules that can be used relatively independently, under the condition that inputs data is shaped the correct way. Fortunately, the entire pipeline starting from a set of parameters and computing down to the calculation of impact metrics.\n",
    "\n",
    "The usage of this entire pipeline is demonstrated below. This pipeline allows to save results into files (c.f. paragraph on [configuration](https://ecodynelec.readthedocs.io/en/latest/examples/with_python.html#configuration)). However results are also always returned for further in-script use. These results are stored in the `impacts` variable for later paragraphs in this tutorial."
   ]
  },
  {
   "cell_type": "code",
   "execution_count": null,
   "id": "831f4200-683d-40e7-bf4c-8af479dd10d4",
   "metadata": {
    "ExecuteTime": {
     "start_time": "2023-05-03T11:58:48.877108Z",
     "end_time": "2023-05-03T11:58:48.881011Z"
    }
   },
   "outputs": [],
   "source": [
    "from ecodynelec.pipelines import execute\n",
    "from ecodynelec.progress_info import ProgressInfo"
   ]
  },
  {
   "cell_type": "code",
   "execution_count": null,
   "id": "026254ca-a03c-4f42-bdae-8ec89afa3e67",
   "metadata": {
    "ExecuteTime": {
     "start_time": "2023-05-03T11:58:49.320225Z",
     "end_time": "2023-05-03T11:58:53.062899Z"
    }
   },
   "outputs": [],
   "source": [
    "impacts = execute(config=my_config, progress_bar=ProgressInfo())"
   ]
  },
  {
   "cell_type": "markdown",
   "id": "a55f91cd-6f29-473a-89d3-3d272dba3c29",
   "metadata": {
    "tags": []
   },
   "source": [
    "## Outcome and Visualization"
   ]
  },
  {
   "cell_type": "markdown",
   "id": "21ddbbe2-eae2-4436-acb7-942294704d67",
   "metadata": {},
   "source": [
    "The outcome is stored in files and returned for further in-script use. In the previous section, results were stored in the `impacts` variable. The current section highlights the content returned and shows some basic possibilities for data visualization."
   ]
  },
  {
   "cell_type": "code",
   "execution_count": null,
   "id": "aa711335-3195-4659-ac12-e4a61ac0b9ba",
   "metadata": {
    "tags": [],
    "ExecuteTime": {
     "start_time": "2023-04-12T17:18:34.837119Z",
     "end_time": "2023-04-12T17:18:34.840753Z"
    }
   },
   "outputs": [],
   "source": [
    "import numpy as np\n",
    "import pandas as pd"
   ]
  },
  {
   "cell_type": "markdown",
   "id": "0a88dde5-5a9f-40bd-bd17-76d922a431e3",
   "metadata": {},
   "source": [
    "### Description of the outcome"
   ]
  },
  {
   "cell_type": "markdown",
   "id": "f7758673-6e11-4e92-acec-0cb953ff0b9c",
   "metadata": {},
   "source": [
    "The `impacts` variable contains a collection of tables. This collection is a `dict` with one `Global` key, and one other key per impact category:"
   ]
  },
  {
   "cell_type": "code",
   "execution_count": null,
   "id": "1d74b040-bf42-4a46-901b-a64d644f8441",
   "metadata": {
    "ExecuteTime": {
     "start_time": "2023-04-12T17:18:34.841767Z",
     "end_time": "2023-04-12T17:18:34.878689Z"
    }
   },
   "outputs": [],
   "source": [
    "print(impacts.keys())"
   ]
  },
  {
   "cell_type": "markdown",
   "id": "09401054-8b44-44d8-a3b8-f4a21f247cc5",
   "metadata": {},
   "source": [
    "The `Global` table is the *sum across all technologies* for each index, as it is shown for the first few time steps:"
   ]
  },
  {
   "cell_type": "code",
   "execution_count": null,
   "id": "8c3552ab-cdd6-4cba-959b-30fff5c653a0",
   "metadata": {
    "ExecuteTime": {
     "start_time": "2023-04-12T17:18:34.871422Z",
     "end_time": "2023-04-12T17:18:34.946521Z"
    }
   },
   "outputs": [],
   "source": [
    "display(impacts['Global'].head())"
   ]
  },
  {
   "cell_type": "markdown",
   "id": "9fef016b-6c63-4d07-9236-abf64a3c8215",
   "metadata": {},
   "source": [
    "The other tables are, for each impact category, the breakdown into all possible sources:"
   ]
  },
  {
   "cell_type": "code",
   "execution_count": null,
   "id": "bd39c296-c7fc-4ca4-8e75-e79d25a79fae",
   "metadata": {
    "ExecuteTime": {
     "start_time": "2023-04-12T17:18:34.915408Z",
     "end_time": "2023-04-12T17:18:35.019422Z"
    }
   },
   "outputs": [],
   "source": [
    "for i in impacts: # Iterate for all impact categories\n",
    "    if i=='Global': continue; # Skip the Global, already visualized above.\n",
    "    \n",
    "    print(f\"#############\\nimpacts for {i}:\")\n",
    "    display( impacts[i].head(3).T ) # Transpose table for readability"
   ]
  },
  {
   "cell_type": "markdown",
   "id": "e02899f5-8296-4f2c-9f44-37e0839afed5",
   "metadata": {},
   "source": [
    "### Group per country"
   ]
  },
  {
   "cell_type": "markdown",
   "id": "bbd73991-b03d-4008-a0ab-1ade33f26c5c",
   "metadata": {},
   "source": [
    "The following piece of code suggests a basic visualization of the Climate Change category, grouping the results per country of origin of the tracked electricity."
   ]
  },
  {
   "cell_type": "code",
   "execution_count": null,
   "outputs": [],
   "source": [
    "impacts['Climate Change'].columns"
   ],
   "metadata": {
    "collapsed": false,
    "ExecuteTime": {
     "start_time": "2023-04-13T15:28:49.506988Z",
     "end_time": "2023-04-13T15:28:49.536254Z"
    }
   }
  },
  {
   "cell_type": "code",
   "execution_count": null,
   "outputs": [],
   "source": [
    "# Filters the CH\n",
    "cli = impacts['Climate Change']\n",
    "lcs = cli.loc[:,[not src.endswith('_CH') for src in cli.columns]]\n",
    "cli2 = cli.drop(lcs, axis=1)"
   ],
   "metadata": {
    "collapsed": false,
    "ExecuteTime": {
     "start_time": "2023-04-13T15:48:02.283265Z",
     "end_time": "2023-04-13T15:48:02.493204Z"
    }
   }
  },
  {
   "cell_type": "code",
   "execution_count": null,
   "outputs": [],
   "source": [
    "cli2.keys()"
   ],
   "metadata": {
    "collapsed": false,
    "ExecuteTime": {
     "start_time": "2023-04-13T17:18:47.786808Z",
     "end_time": "2023-04-13T17:18:47.859292Z"
    }
   }
  },
  {
   "cell_type": "code",
   "execution_count": null,
   "id": "306c8639-af0c-444a-a2c9-6e821e84aa37",
   "metadata": {
    "ExecuteTime": {
     "start_time": "2023-04-12T17:18:34.974420Z",
     "end_time": "2023-04-12T17:18:35.051411Z"
    }
   },
   "outputs": [],
   "source": [
    "def compute_per_country(results):\n",
    "    \"\"\"Function to group results per country\"\"\"\n",
    "    countries = np.unique([c.split(\"_\")[-1] for c in results.columns]) # List of countries\n",
    "    \n",
    "    per_country = []\n",
    "    for c in countries:\n",
    "        cols = [k for k in results.columns if k[-3:]==f\"_{c}\"]\n",
    "        per_country.append(pd.Series(results.loc[:,cols].sum(axis=1), name=c))\n",
    "        \n",
    "    return pd.concat(per_country,axis=1)"
   ]
  },
  {
   "cell_type": "code",
   "execution_count": null,
   "id": "9f9212fb-60dc-4e9f-9707-1fc7fc8acbdf",
   "metadata": {
    "ExecuteTime": {
     "start_time": "2023-04-13T14:38:07.891809Z",
     "end_time": "2023-04-13T14:38:10.465465Z"
    }
   },
   "outputs": [],
   "source": [
    "gwp_per_country = compute_per_country(impacts['Climate Change']) # Group Climate Change index impacts per country\n",
    "gwp_per_country.plot.area(figsize=(12,4), legend='reverse', color=['r','w','y','b','c','k'],\n",
    "                          title=\"Some visualization of the GWP aggregated per country\"); # Build the graph"
   ]
  },
  {
   "cell_type": "code",
   "execution_count": null,
   "outputs": [],
   "source": [
    "gwp_per_country['CH'].plot()"
   ],
   "metadata": {
    "collapsed": false,
    "ExecuteTime": {
     "start_time": "2023-04-13T15:28:01.898796Z",
     "end_time": "2023-04-13T15:28:03.850201Z"
    }
   }
  },
  {
   "cell_type": "markdown",
   "id": "f7828fd9-ec54-46a3-8c2c-7bb03ae0f4e1",
   "metadata": {},
   "source": [
    "### Group per production type"
   ]
  },
  {
   "cell_type": "markdown",
   "id": "db47a027-7e05-4bc3-b3f8-134ab24187a2",
   "metadata": {},
   "source": [
    "The following piece of code suggests a basic visualization of the Climate Change category, grouping the results per technology of origin of the tracked electricity."
   ]
  },
  {
   "cell_type": "code",
   "execution_count": null,
   "outputs": [],
   "source": [
    "impacts.keys()"
   ],
   "metadata": {
    "collapsed": false,
    "ExecuteTime": {
     "start_time": "2023-04-12T17:20:06.874088Z",
     "end_time": "2023-04-12T17:20:06.899382Z"
    }
   }
  },
  {
   "cell_type": "code",
   "execution_count": null,
   "id": "d227ab07-0f3a-44d6-a7fb-b8822fe7fb38",
   "metadata": {
    "ExecuteTime": {
     "start_time": "2023-04-13T14:38:15.942518Z",
     "end_time": "2023-04-13T14:38:15.958610Z"
    }
   },
   "outputs": [],
   "source": [
    "def compute_per_type(results):\n",
    "    \"\"\"Function to group datasets per type of unit, regardless of the country of origin\"\"\"\n",
    "    unit_list = np.unique([k[:-3] if k[-3]==\"_\" else k for k in results.columns]) # List the different production units\n",
    "    \n",
    "    per_unit = []\n",
    "    for u in unit_list:\n",
    "        cols = [k for k in results.columns if k[:-3]==u] # collect the useful columns\n",
    "        per_unit.append(pd.Series(results.loc[:,cols].sum(axis=1), name=u)) # aggregate\n",
    "\n",
    "    return pd.concat(per_unit,axis=1)"
   ]
  },
  {
   "cell_type": "code",
   "execution_count": null,
   "id": "15a78f85-6e92-44a0-8233-b928af597708",
   "metadata": {
    "ExecuteTime": {
     "start_time": "2023-04-13T14:38:16.231102Z",
     "end_time": "2023-04-13T14:38:21.965342Z"
    }
   },
   "outputs": [],
   "source": [
    "es13_per_type = compute_per_type(impacts['Climate Change']) # Group Climate Change index impacts per country\n",
    "es13_per_type.plot.area(figsize=(12,8), legend='reverse',\n",
    "                        title=\"Some visualization of the Climate Change index aggregated per source\"); # Build the graph"
   ]
  },
  {
   "cell_type": "code",
   "execution_count": null,
   "outputs": [],
   "source": [],
   "metadata": {
    "collapsed": false
   }
  },
  {
   "cell_type": "code",
   "execution_count": null,
   "outputs": [],
   "source": [],
   "metadata": {
    "collapsed": false
   }
  }
 ],
 "metadata": {
  "kernelspec": {
   "display_name": "Python 3 (ipykernel)",
   "language": "python",
   "name": "python3"
  },
  "language_info": {
   "codemirror_mode": {
    "name": "ipython",
    "version": 3
   },
   "file_extension": ".py",
   "mimetype": "text/x-python",
   "name": "python",
   "nbconvert_exporter": "python",
   "pygments_lexer": "ipython3",
   "version": "3.8.10"
  }
 },
 "nbformat": 4,
 "nbformat_minor": 5
}
