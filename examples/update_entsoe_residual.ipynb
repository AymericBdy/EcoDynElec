{
 "cells": [
  {
   "cell_type": "code",
   "execution_count": 1,
   "metadata": {
    "collapsed": true,
    "ExecuteTime": {
     "start_time": "2023-04-18T14:35:18.280216Z",
     "end_time": "2023-04-18T14:35:19.605756Z"
    }
   },
   "outputs": [],
   "source": [
    "from ecodynelec.parameter import Parameter # Import the class to manipulate parameters\n",
    "from ecodynelec.pipelines import execute\n",
    "import numpy as np\n",
    "import pandas as pd\n",
    "import matplotlib.pyplot as plt"
   ]
  },
  {
   "cell_type": "code",
   "execution_count": 1,
   "outputs": [],
   "source": [],
   "metadata": {
    "collapsed": false,
    "ExecuteTime": {
     "start_time": "2023-04-18T14:35:19.606756Z",
     "end_time": "2023-04-18T14:35:19.609014Z"
    }
   }
  },
  {
   "cell_type": "code",
   "execution_count": 3,
   "outputs": [
    {
     "name": "stdout",
     "output_type": "stream",
     "text": [
      "Extracting days from Residual_model.xlsx\n",
      "Computing CH generation data\n",
      "Load generation data...\n",
      "\tGeneration data.\n",
      "Data loading: 57.04 sec.\n",
      "Memory usage table: 1095.15 MB\n",
      "Autocomplete...               1/1)...\n",
      "=========================\n",
      "Missing data identified: 358 (0.11%)\n",
      "                                  CH\n",
      "Hydro Pumped Storage               -\n",
      "Hydro Run-of-river and poundage  240\n",
      "Hydro Water Reservoir              -\n",
      "Nuclear                            -\n",
      "Solar                             47\n",
      "Wind Onshore                      71\n",
      "=========================\n",
      "Extraction raw generation: 5.08 sec.             \n",
      "\tExtraction time: 64.55 sec.\n",
      "\t4/4 - Resample exchanges to D steps...\n",
      "Saving CH generation data\n"
     ]
    },
    {
     "data": {
      "text/plain": "{'CH':             Biomass_CH  Fossil_Brown_coal/Lignite_CH   \n 2016-01-01         0.0                           0.0  \\\n 2016-01-02         0.0                           0.0   \n 2016-01-03         0.0                           0.0   \n 2016-01-04         0.0                           0.0   \n 2016-01-05         0.0                           0.0   \n ...                ...                           ...   \n 2021-12-27         0.0                           0.0   \n 2021-12-28         0.0                           0.0   \n 2021-12-29         0.0                           0.0   \n 2021-12-30         0.0                           0.0   \n 2021-12-31         0.0                           0.0   \n \n             Fossil_Coal-derived_gas_CH  Fossil_Gas_CH  Fossil_Hard_coal_CH   \n 2016-01-01                         0.0            0.0                  0.0  \\\n 2016-01-02                         0.0            0.0                  0.0   \n 2016-01-03                         0.0            0.0                  0.0   \n 2016-01-04                         0.0            0.0                  0.0   \n 2016-01-05                         0.0            0.0                  0.0   \n ...                                ...            ...                  ...   \n 2021-12-27                         0.0            0.0                  0.0   \n 2021-12-28                         0.0            0.0                  0.0   \n 2021-12-29                         0.0            0.0                  0.0   \n 2021-12-30                         0.0            0.0                  0.0   \n 2021-12-31                         0.0            0.0                  0.0   \n \n             Fossil_Oil_CH  Fossil_Oil_shale_CH  Fossil_Peat_CH  Geothermal_CH   \n 2016-01-01            0.0                  0.0             0.0            0.0  \\\n 2016-01-02            0.0                  0.0             0.0            0.0   \n 2016-01-03            0.0                  0.0             0.0            0.0   \n 2016-01-04            0.0                  0.0             0.0            0.0   \n 2016-01-05            0.0                  0.0             0.0            0.0   \n ...                   ...                  ...             ...            ...   \n 2021-12-27            0.0                  0.0             0.0            0.0   \n 2021-12-28            0.0                  0.0             0.0            0.0   \n 2021-12-29            0.0                  0.0             0.0            0.0   \n 2021-12-30            0.0                  0.0             0.0            0.0   \n 2021-12-31            0.0                  0.0             0.0            0.0   \n \n             Hydro_Pumped_Storage_CH  Hydro_Run-of-river_and_poundage_CH   \n 2016-01-01              3523.030029                          742.699951  \\\n 2016-01-02              4092.479980                          764.200012   \n 2016-01-03              4434.619629                          876.099976   \n 2016-01-04              7364.720215                         1134.599854   \n 2016-01-05             12098.370117                         1112.599976   \n ...                             ...                                 ...   \n 2021-12-27              8751.620117                         4585.000000   \n 2021-12-28             10680.149414                         5474.680176   \n 2021-12-29             14337.499023                         6267.469238   \n 2021-12-30              8258.759766                         6570.180176   \n 2021-12-31              8884.030273                         6402.199707   \n \n             Hydro_Water_Reservoir_CH  Marine_CH    Nuclear_CH   \n 2016-01-01               7745.569824        0.0  71969.203125  \\\n 2016-01-02               8074.779785        0.0  72123.203125   \n 2016-01-03               8182.950195        0.0  72362.500000   \n 2016-01-04              14590.169922        0.0  72356.101562   \n 2016-01-05              19766.068359        0.0  72294.601562   \n ...                              ...        ...           ...   \n 2021-12-27               6204.959961        0.0  72408.000000   \n 2021-12-28               6927.779785        0.0  72300.398438   \n 2021-12-29               7320.899902        0.0  72276.796875   \n 2021-12-30               5775.039551        0.0  71988.703125   \n 2021-12-31               5367.509766        0.0  72255.093750   \n \n             Other_fossil_CH  Other_renewable_CH     Solar_CH  Waste_CH   \n 2016-01-01              0.0                 0.0   186.509995       0.0  \\\n 2016-01-02              0.0                 0.0    93.590004       0.0   \n 2016-01-03              0.0                 0.0   310.960022       0.0   \n 2016-01-04              0.0                 0.0   174.229980       0.0   \n 2016-01-05              0.0                 0.0   341.049957       0.0   \n ...                     ...                 ...          ...       ...   \n 2021-12-27              0.0                 0.0    50.689995       0.0   \n 2021-12-28              0.0                 0.0   226.240005       0.0   \n 2021-12-29              0.0                 0.0   107.949997       0.0   \n 2021-12-30              0.0                 0.0  1783.449951       0.0   \n 2021-12-31              0.0                 0.0   865.019958       0.0   \n \n             Wind_Offshore_CH  Wind_Onshore_CH  \n 2016-01-01               0.0       132.240005  \n 2016-01-02               0.0       339.390015  \n 2016-01-03               0.0       330.539978  \n 2016-01-04               0.0       470.529999  \n 2016-01-05               0.0       364.410004  \n ...                      ...              ...  \n 2021-12-27               0.0       800.519958  \n 2021-12-28               0.0      1167.510010  \n 2021-12-29               0.0      1041.699829  \n 2021-12-30               0.0       449.549957  \n 2021-12-31               0.0       777.799988  \n \n [2192 rows x 20 columns]}"
     },
     "execution_count": 3,
     "metadata": {},
     "output_type": "execute_result"
    }
   ],
   "source": [
    "from ecodynelec.updating import extract_entsoe_daily_generation_for_residuals\n",
    "\n",
    "config = Parameter()\n",
    "config.target= 'CH'\n",
    "config.start= '2016-01-01 00:00'\n",
    "config.end= '2021-12-31 23:59'\n",
    "config.path.generation = \"../etude_stat/test_data/downloads/generations/\"\n",
    "config.path.exchanges = \"../etude_stat/test_data/downloads/exchanges/\"\n",
    "extract_entsoe_daily_generation_for_residuals(config, is_verbose=True)"
   ],
   "metadata": {
    "collapsed": false,
    "ExecuteTime": {
     "start_time": "2023-04-18T14:36:05.747914Z",
     "end_time": "2023-04-18T14:37:11.016858Z"
    }
   }
  },
  {
   "cell_type": "code",
   "execution_count": null,
   "outputs": [],
   "source": [],
   "metadata": {
    "collapsed": false
   }
  },
  {
   "cell_type": "code",
   "execution_count": 77,
   "outputs": [],
   "source": [
    "my_config = Parameter() # Initialize a configuration object\n",
    "# Set base config\n",
    "my_config.freq = \"H\"\n",
    "my_config.ctry = ['AT','CH','DE','FR','IT', 'CZ']\n",
    "my_config.data_cleaning = True\n",
    "my_config.path.generation = \"./test_data/downloads/generations/\"\n",
    "my_config.path.exchanges = \"./test_data/downloads/exchanges/\""
   ],
   "metadata": {
    "collapsed": false,
    "ExecuteTime": {
     "start_time": "2023-04-18T10:26:54.291656Z",
     "end_time": "2023-04-18T10:26:54.403276Z"
    }
   }
  },
  {
   "cell_type": "code",
   "execution_count": 78,
   "outputs": [],
   "source": [
    "# Setup auto-downloading\n",
    "my_config.server.useServer = False\n",
    "my_config.server.username = 'aymericb5@gmail.com'\n",
    "my_config.server.password = '8.U#Mf48nZn!eqc'"
   ],
   "metadata": {
    "collapsed": false,
    "ExecuteTime": {
     "start_time": "2023-04-18T10:26:54.405274Z",
     "end_time": "2023-04-18T10:26:54.407899Z"
    }
   }
  },
  {
   "cell_type": "code",
   "execution_count": 79,
   "outputs": [
    {
     "name": "stdout",
     "output_type": "stream",
     "text": [
      "Load generation data...\n",
      "\tGeneration data.\n",
      "Data loading: 56.58 sec.\n",
      "Memory usage table: 1095.15 MB\n",
      "Autocomplete...               1/1)...\n",
      "=========================\n",
      "Missing data identified: 358 (0.11%)\n",
      "                                  CH\n",
      "Hydro Pumped Storage               -\n",
      "Hydro Run-of-river and poundage  240\n",
      "Hydro Water Reservoir              -\n",
      "Nuclear                            -\n",
      "Solar                             47\n",
      "Wind Onshore                      71\n",
      "=========================\n",
      "Extraction raw generation: 2.11 sec.             \n",
      "\tExtraction time: 61.24 sec.\n",
      "\t4/4 - Resample exchanges to D steps...\n"
     ]
    }
   ],
   "source": [
    "from ecodynelec.preprocessing.downloading import download\n",
    "from ecodynelec.preprocessing.loading import import_generation, adjust_generation\n",
    "\n",
    "p = my_config\n",
    "ctry=['CH']\n",
    "start='2016-01-01 00:00'\n",
    "end='2021-12-31 23:59'\n",
    "freq='D'\n",
    "target=p.target\n",
    "prod_gap=None\n",
    "sg_data=None\n",
    "path_gen=p.path.generation\n",
    "path_imp=p.path.exchanges\n",
    "savedir=p.path.savedir\n",
    "net_exchange=p.net_exchanges\n",
    "residual_global=p.residual_global\n",
    "correct_imp=p.sg_imports\n",
    "clean_data=p.data_cleaning\n",
    "is_verbose=True\n",
    "\n",
    "gen_preprocessed=None\n",
    "n_hours=2\n",
    "days_around=7\n",
    "limit=.4\n",
    "\n",
    "###########################\n",
    "###### DOWNLOAD FROM SERVER\n",
    "######\n",
    "if p.server.useServer:\n",
    "    if None in [p.path.generation, p.path.exchanges]: # If one path was not given\n",
    "        raise KeyError(\"Can not download files: missing path raw_generation and/or raw_exchange to save files.\")\n",
    "    if is_verbose: print(\"Download Entso-E data from server...\")\n",
    "    (p.ctry, p.start, p.end, p.freq, p.target) = (ctry, start, end, freq, target)\n",
    "    download(config=p, is_verbose=is_verbose) # Save files in a local dirrectory\n",
    "\n",
    "###########################\n",
    "###### GENERATE MIX\n",
    "######\n",
    "Gen = import_generation(path_gen=path_gen, path_prep=gen_preprocessed, ctry=ctry, start=start, end=end,\n",
    "                        savedir=savedir, n_hours=n_hours, days_around=days_around, limit=limit,\n",
    "                        clean_generation=False, is_verbose=is_verbose) # import generation data\n",
    "Gen = adjust_generation(Gen, freq=freq, residual_global=residual_global, sg_data=sg_data,\n",
    "                        prod_gap=prod_gap, is_verbose=is_verbose) # adjust the generation data"
   ],
   "metadata": {
    "collapsed": false,
    "ExecuteTime": {
     "start_time": "2023-04-18T10:26:54.520636Z",
     "end_time": "2023-04-18T10:27:55.854227Z"
    }
   }
  },
  {
   "cell_type": "code",
   "execution_count": 80,
   "outputs": [
    {
     "data": {
      "text/plain": "{'CH':             Biomass_CH  Fossil_Brown_coal/Lignite_CH   \n 2016-01-01         0.0                           0.0  \\\n 2016-01-02         0.0                           0.0   \n 2016-01-03         0.0                           0.0   \n 2016-01-04         0.0                           0.0   \n 2016-01-05         0.0                           0.0   \n ...                ...                           ...   \n 2021-12-27         0.0                           0.0   \n 2021-12-28         0.0                           0.0   \n 2021-12-29         0.0                           0.0   \n 2021-12-30         0.0                           0.0   \n 2021-12-31         0.0                           0.0   \n \n             Fossil_Coal-derived_gas_CH  Fossil_Gas_CH  Fossil_Hard_coal_CH   \n 2016-01-01                         0.0            0.0                  0.0  \\\n 2016-01-02                         0.0            0.0                  0.0   \n 2016-01-03                         0.0            0.0                  0.0   \n 2016-01-04                         0.0            0.0                  0.0   \n 2016-01-05                         0.0            0.0                  0.0   \n ...                                ...            ...                  ...   \n 2021-12-27                         0.0            0.0                  0.0   \n 2021-12-28                         0.0            0.0                  0.0   \n 2021-12-29                         0.0            0.0                  0.0   \n 2021-12-30                         0.0            0.0                  0.0   \n 2021-12-31                         0.0            0.0                  0.0   \n \n             Fossil_Oil_CH  Fossil_Oil_shale_CH  Fossil_Peat_CH  Geothermal_CH   \n 2016-01-01            0.0                  0.0             0.0            0.0  \\\n 2016-01-02            0.0                  0.0             0.0            0.0   \n 2016-01-03            0.0                  0.0             0.0            0.0   \n 2016-01-04            0.0                  0.0             0.0            0.0   \n 2016-01-05            0.0                  0.0             0.0            0.0   \n ...                   ...                  ...             ...            ...   \n 2021-12-27            0.0                  0.0             0.0            0.0   \n 2021-12-28            0.0                  0.0             0.0            0.0   \n 2021-12-29            0.0                  0.0             0.0            0.0   \n 2021-12-30            0.0                  0.0             0.0            0.0   \n 2021-12-31            0.0                  0.0             0.0            0.0   \n \n             Hydro_Pumped_Storage_CH  Hydro_Run-of-river_and_poundage_CH   \n 2016-01-01              3523.030029                          742.699951  \\\n 2016-01-02              4092.479980                          764.200012   \n 2016-01-03              4434.619629                          876.099976   \n 2016-01-04              7364.720215                         1134.599854   \n 2016-01-05             12098.370117                         1112.599976   \n ...                             ...                                 ...   \n 2021-12-27              8751.620117                         4585.000000   \n 2021-12-28             10680.149414                         5474.680176   \n 2021-12-29             14337.499023                         6267.469238   \n 2021-12-30              8258.759766                         6570.180176   \n 2021-12-31              8884.030273                         6402.199707   \n \n             Hydro_Water_Reservoir_CH  Marine_CH    Nuclear_CH   \n 2016-01-01               7745.569824        0.0  71969.203125  \\\n 2016-01-02               8074.779785        0.0  72123.203125   \n 2016-01-03               8182.950195        0.0  72362.500000   \n 2016-01-04              14590.169922        0.0  72356.101562   \n 2016-01-05              19766.068359        0.0  72294.601562   \n ...                              ...        ...           ...   \n 2021-12-27               6204.959961        0.0  72408.000000   \n 2021-12-28               6927.779785        0.0  72300.398438   \n 2021-12-29               7320.899902        0.0  72276.796875   \n 2021-12-30               5775.039551        0.0  71988.703125   \n 2021-12-31               5367.509766        0.0  72255.093750   \n \n             Other_fossil_CH  Other_renewable_CH     Solar_CH  Waste_CH   \n 2016-01-01              0.0                 0.0   186.509995       0.0  \\\n 2016-01-02              0.0                 0.0    93.590004       0.0   \n 2016-01-03              0.0                 0.0   310.960022       0.0   \n 2016-01-04              0.0                 0.0   174.229980       0.0   \n 2016-01-05              0.0                 0.0   341.049957       0.0   \n ...                     ...                 ...          ...       ...   \n 2021-12-27              0.0                 0.0    50.689995       0.0   \n 2021-12-28              0.0                 0.0   226.240005       0.0   \n 2021-12-29              0.0                 0.0   107.949997       0.0   \n 2021-12-30              0.0                 0.0  1783.449951       0.0   \n 2021-12-31              0.0                 0.0   865.019958       0.0   \n \n             Wind_Offshore_CH  Wind_Onshore_CH  \n 2016-01-01               0.0       132.240005  \n 2016-01-02               0.0       339.390015  \n 2016-01-03               0.0       330.539978  \n 2016-01-04               0.0       470.529999  \n 2016-01-05               0.0       364.410004  \n ...                      ...              ...  \n 2021-12-27               0.0       800.519958  \n 2021-12-28               0.0      1167.510010  \n 2021-12-29               0.0      1041.699829  \n 2021-12-30               0.0       449.549957  \n 2021-12-31               0.0       777.799988  \n \n [2192 rows x 20 columns]}"
     },
     "execution_count": 80,
     "metadata": {},
     "output_type": "execute_result"
    }
   ],
   "source": [
    "Gen"
   ],
   "metadata": {
    "collapsed": false,
    "ExecuteTime": {
     "start_time": "2023-04-18T10:27:55.862222Z",
     "end_time": "2023-04-18T10:27:55.985040Z"
    }
   }
  },
  {
   "cell_type": "code",
   "execution_count": 81,
   "outputs": [
    {
     "data": {
      "text/plain": "Index(['Biomass_CH', 'Fossil_Brown_coal/Lignite_CH',\n       'Fossil_Coal-derived_gas_CH', 'Fossil_Gas_CH', 'Fossil_Hard_coal_CH',\n       'Fossil_Oil_CH', 'Fossil_Oil_shale_CH', 'Fossil_Peat_CH',\n       'Geothermal_CH', 'Hydro_Pumped_Storage_CH',\n       'Hydro_Run-of-river_and_poundage_CH', 'Hydro_Water_Reservoir_CH',\n       'Marine_CH', 'Nuclear_CH', 'Other_fossil_CH', 'Other_renewable_CH',\n       'Solar_CH', 'Waste_CH', 'Wind_Offshore_CH', 'Wind_Onshore_CH'],\n      dtype='object')"
     },
     "execution_count": 81,
     "metadata": {},
     "output_type": "execute_result"
    }
   ],
   "source": [
    "Gen['CH'].columns"
   ],
   "metadata": {
    "collapsed": false,
    "ExecuteTime": {
     "start_time": "2023-04-18T10:27:55.927396Z",
     "end_time": "2023-04-18T10:27:55.987812Z"
    }
   }
  },
  {
   "cell_type": "code",
   "execution_count": 82,
   "outputs": [],
   "source": [
    "residual_model = pd.read_excel('../support_files/Residual_model.xlsx', header=16, index_col=0)\n",
    "#dates = residual_model.columns[0:36] # 36 days in 2015\n",
    "#dates = residual_model.columns[36:36+36] # 36 days in 2016\n",
    "dates = residual_model.columns\n",
    "\"\"\"dates = ['1.21.2015','1.24.2015','1.25.2015','2.18.2015','2.21.2015','2.22.2015','3.15.2015','3.21.2015','3.22.2015','4.15.2015','4.18.2015','4.19.2015','5.20.2015','5.23.2015','5.24.2015','6.17.2015','6.20.2015','6.21.2015','7.15.2015','7.18.2015','7.19.2015','8.19.2015','8.22.2015','8.23.2015','9.16.2015','9.19.2015','9.20.2015','10.21.2015','10.24.2015','10.25.2015','11.18.2015','11.21.2015','11.22.2015','12.16.2015','12.19.2015','12.20.2015']\"\"\"\n",
    "#dates = [pd.to_datetime(date, format='%m.%d.%Y') for date in dates]\n",
    "dates = [date.strftime('%Y-%m-%d') for date in dates]\n",
    "# I love copilot"
   ],
   "metadata": {
    "collapsed": false,
    "ExecuteTime": {
     "start_time": "2023-04-18T10:27:55.939005Z",
     "end_time": "2023-04-18T10:27:56.228469Z"
    }
   }
  },
  {
   "cell_type": "code",
   "execution_count": 83,
   "outputs": [],
   "source": [
    "csv_content = ''\n",
    "csv_content += ';'\n",
    "for date in dates:\n",
    "    csv_content += date + ';'\n",
    "csv_content += '\\n'\n",
    "for production in Gen['CH'].columns:\n",
    "    csv_content += production.replace('_CH', '').replace('_', ' ') + ';'\n",
    "    for date in dates:\n",
    "        csv_content += str(Gen['CH'][production].loc[date]/1000).replace('.', ',') + ';'\n",
    "    csv_content += '\\n'\n",
    "\n",
    "csv_file = open('2016-2021_entsoe_data_v2.csv', 'w')\n",
    "csv_file.write(csv_content)\n",
    "csv_file.close()"
   ],
   "metadata": {
    "collapsed": false,
    "ExecuteTime": {
     "start_time": "2023-04-18T10:27:56.229470Z",
     "end_time": "2023-04-18T10:27:56.631900Z"
    }
   }
  },
  {
   "cell_type": "code",
   "execution_count": null,
   "outputs": [],
   "source": [],
   "metadata": {
    "collapsed": false
   }
  },
  {
   "cell_type": "code",
   "execution_count": 73,
   "outputs": [
    {
     "data": {
      "text/plain": "                                            Days                    1   \n0                                           OFEN                  NaN  \\\n1                                            NaN  2016-01-20 00:00:00   \n2                      Centrales au fil de l’eau                 30.4   \n3                       Centrales à accumulation                 84.1   \n4                           Centrales nucléaires                 71.1   \n..                                           ...                  ...   \n61                          Centrales nucléaires               -1.315   \n62  Centrales therm. classiques et renouvelables             14.94894   \n63                                           NaN                  NaN   \n64                             Expected week day                    4   \n65                                       Error ?                  NaN   \n\n                      2                    3                    4   \n0                   NaN                  NaN                  NaN  \\\n1   2016-01-23 00:00:00  2016-01-24 00:00:00  2016-02-17 00:00:00   \n2                  25.1                 23.7                 32.4   \n3                  36.7                 26.4                 67.5   \n4                  70.9                   71                 71.2   \n..                  ...                  ...                  ...   \n61              -1.3643              -1.3756              -1.2794   \n62             14.60249             14.50105              15.8608   \n63                  NaN                  NaN                  NaN   \n64                    7                    1                    4   \n65                  NaN                  NaN                  NaN   \n\n                      5                    6                    7   \n0                   NaN                  NaN                  NaN  \\\n1   2016-02-20 00:00:00  2016-02-21 00:00:00  2016-03-16 00:00:00   \n2                  29.1                   31                 29.9   \n3                  30.3                 21.1                 69.8   \n4                  71.2                 70.6                   71   \n..                  ...                  ...                  ...   \n61              -1.2626              -1.2292              -1.3239   \n62             14.80327             13.77424             14.49163   \n63                  NaN                  NaN                  NaN   \n64                    7                    1                    4   \n65                  NaN                  NaN                  NaN   \n\n                      8                    9  ...                  207   \n0                   NaN                  NaN  ...                  NaN  \\\n1   2016-03-19 00:00:00  2016-03-20 00:00:00  ...  2021-09-19 00:00:00   \n2                  24.9                 24.3  ...                   47   \n3                  27.9                 26.7  ...                 23.6   \n4                  70.9                   71  ...                 41.1   \n..                  ...                  ...  ...                  ...   \n61              -1.3241              -1.3686  ...            -0.148837   \n62             13.86593             14.15694  ...            15.743601   \n63                  NaN                  NaN  ...                  NaN   \n64                    7                    1  ...                    1   \n65                  NaN                  NaN  ...                  NaN   \n\n                    208                  209                  210   \n0                   NaN                  NaN                  NaN  \\\n1   2021-10-20 00:00:00  2021-10-23 00:00:00  2021-10-24 00:00:00   \n2                  27.3                 25.6                 24.3   \n3                  51.9                   40                   22   \n4                    41                 41.3                 41.4   \n..                  ...                  ...                  ...   \n61              -0.1904            -0.211812            -0.132425   \n62            12.527453             9.464747            10.057681   \n63                  NaN                  NaN                  NaN   \n64                    4                    7                    1   \n65                  NaN                  NaN                  NaN   \n\n                    211                  212                  213   \n0                   NaN                  NaN                  NaN  \\\n1   2021-11-17 00:00:00  2021-11-20 00:00:00  2021-11-21 00:00:00   \n2                  26.7                 22.7                 22.4   \n3                  80.9                 46.3                 34.5   \n4                  41.3                 41.4                 41.4   \n..                  ...                  ...                  ...   \n61            -0.233925            -0.246613            -0.228563   \n62            12.783445            13.269401            13.247583   \n63                  NaN                  NaN                  NaN   \n64                    4                    7                    1   \n65                  NaN                  NaN                  NaN   \n\n                    214                  215                  216  \n0                   NaN                  NaN                  NaN  \n1   2021-12-15 00:00:00  2021-12-18 00:00:00  2021-12-19 00:00:00  \n2                  31.4                 25.2                 24.2  \n3                    92                 34.3                 31.2  \n4                  71.3                 71.2                 71.3  \n..                  ...                  ...                  ...  \n61            -1.380075            -1.419213             -1.37025  \n62             14.11565             11.55813             14.21507  \n63                  NaN                  NaN                  NaN  \n64                    4                    7                    1  \n65                  NaN                  NaN                  NaN  \n\n[66 rows x 217 columns]",
      "text/html": "<div>\n<style scoped>\n    .dataframe tbody tr th:only-of-type {\n        vertical-align: middle;\n    }\n\n    .dataframe tbody tr th {\n        vertical-align: top;\n    }\n\n    .dataframe thead th {\n        text-align: right;\n    }\n</style>\n<table border=\"1\" class=\"dataframe\">\n  <thead>\n    <tr style=\"text-align: right;\">\n      <th></th>\n      <th>Days</th>\n      <th>1</th>\n      <th>2</th>\n      <th>3</th>\n      <th>4</th>\n      <th>5</th>\n      <th>6</th>\n      <th>7</th>\n      <th>8</th>\n      <th>9</th>\n      <th>...</th>\n      <th>207</th>\n      <th>208</th>\n      <th>209</th>\n      <th>210</th>\n      <th>211</th>\n      <th>212</th>\n      <th>213</th>\n      <th>214</th>\n      <th>215</th>\n      <th>216</th>\n    </tr>\n  </thead>\n  <tbody>\n    <tr>\n      <th>0</th>\n      <td>OFEN</td>\n      <td>NaN</td>\n      <td>NaN</td>\n      <td>NaN</td>\n      <td>NaN</td>\n      <td>NaN</td>\n      <td>NaN</td>\n      <td>NaN</td>\n      <td>NaN</td>\n      <td>NaN</td>\n      <td>...</td>\n      <td>NaN</td>\n      <td>NaN</td>\n      <td>NaN</td>\n      <td>NaN</td>\n      <td>NaN</td>\n      <td>NaN</td>\n      <td>NaN</td>\n      <td>NaN</td>\n      <td>NaN</td>\n      <td>NaN</td>\n    </tr>\n    <tr>\n      <th>1</th>\n      <td>NaN</td>\n      <td>2016-01-20 00:00:00</td>\n      <td>2016-01-23 00:00:00</td>\n      <td>2016-01-24 00:00:00</td>\n      <td>2016-02-17 00:00:00</td>\n      <td>2016-02-20 00:00:00</td>\n      <td>2016-02-21 00:00:00</td>\n      <td>2016-03-16 00:00:00</td>\n      <td>2016-03-19 00:00:00</td>\n      <td>2016-03-20 00:00:00</td>\n      <td>...</td>\n      <td>2021-09-19 00:00:00</td>\n      <td>2021-10-20 00:00:00</td>\n      <td>2021-10-23 00:00:00</td>\n      <td>2021-10-24 00:00:00</td>\n      <td>2021-11-17 00:00:00</td>\n      <td>2021-11-20 00:00:00</td>\n      <td>2021-11-21 00:00:00</td>\n      <td>2021-12-15 00:00:00</td>\n      <td>2021-12-18 00:00:00</td>\n      <td>2021-12-19 00:00:00</td>\n    </tr>\n    <tr>\n      <th>2</th>\n      <td>Centrales au fil de l’eau</td>\n      <td>30.4</td>\n      <td>25.1</td>\n      <td>23.7</td>\n      <td>32.4</td>\n      <td>29.1</td>\n      <td>31</td>\n      <td>29.9</td>\n      <td>24.9</td>\n      <td>24.3</td>\n      <td>...</td>\n      <td>47</td>\n      <td>27.3</td>\n      <td>25.6</td>\n      <td>24.3</td>\n      <td>26.7</td>\n      <td>22.7</td>\n      <td>22.4</td>\n      <td>31.4</td>\n      <td>25.2</td>\n      <td>24.2</td>\n    </tr>\n    <tr>\n      <th>3</th>\n      <td>Centrales à accumulation</td>\n      <td>84.1</td>\n      <td>36.7</td>\n      <td>26.4</td>\n      <td>67.5</td>\n      <td>30.3</td>\n      <td>21.1</td>\n      <td>69.8</td>\n      <td>27.9</td>\n      <td>26.7</td>\n      <td>...</td>\n      <td>23.6</td>\n      <td>51.9</td>\n      <td>40</td>\n      <td>22</td>\n      <td>80.9</td>\n      <td>46.3</td>\n      <td>34.5</td>\n      <td>92</td>\n      <td>34.3</td>\n      <td>31.2</td>\n    </tr>\n    <tr>\n      <th>4</th>\n      <td>Centrales nucléaires</td>\n      <td>71.1</td>\n      <td>70.9</td>\n      <td>71</td>\n      <td>71.2</td>\n      <td>71.2</td>\n      <td>70.6</td>\n      <td>71</td>\n      <td>70.9</td>\n      <td>71</td>\n      <td>...</td>\n      <td>41.1</td>\n      <td>41</td>\n      <td>41.3</td>\n      <td>41.4</td>\n      <td>41.3</td>\n      <td>41.4</td>\n      <td>41.4</td>\n      <td>71.3</td>\n      <td>71.2</td>\n      <td>71.3</td>\n    </tr>\n    <tr>\n      <th>...</th>\n      <td>...</td>\n      <td>...</td>\n      <td>...</td>\n      <td>...</td>\n      <td>...</td>\n      <td>...</td>\n      <td>...</td>\n      <td>...</td>\n      <td>...</td>\n      <td>...</td>\n      <td>...</td>\n      <td>...</td>\n      <td>...</td>\n      <td>...</td>\n      <td>...</td>\n      <td>...</td>\n      <td>...</td>\n      <td>...</td>\n      <td>...</td>\n      <td>...</td>\n      <td>...</td>\n    </tr>\n    <tr>\n      <th>61</th>\n      <td>Centrales nucléaires</td>\n      <td>-1.315</td>\n      <td>-1.3643</td>\n      <td>-1.3756</td>\n      <td>-1.2794</td>\n      <td>-1.2626</td>\n      <td>-1.2292</td>\n      <td>-1.3239</td>\n      <td>-1.3241</td>\n      <td>-1.3686</td>\n      <td>...</td>\n      <td>-0.148837</td>\n      <td>-0.1904</td>\n      <td>-0.211812</td>\n      <td>-0.132425</td>\n      <td>-0.233925</td>\n      <td>-0.246613</td>\n      <td>-0.228563</td>\n      <td>-1.380075</td>\n      <td>-1.419213</td>\n      <td>-1.37025</td>\n    </tr>\n    <tr>\n      <th>62</th>\n      <td>Centrales therm. classiques et renouvelables</td>\n      <td>14.94894</td>\n      <td>14.60249</td>\n      <td>14.50105</td>\n      <td>15.8608</td>\n      <td>14.80327</td>\n      <td>13.77424</td>\n      <td>14.49163</td>\n      <td>13.86593</td>\n      <td>14.15694</td>\n      <td>...</td>\n      <td>15.743601</td>\n      <td>12.527453</td>\n      <td>9.464747</td>\n      <td>10.057681</td>\n      <td>12.783445</td>\n      <td>13.269401</td>\n      <td>13.247583</td>\n      <td>14.11565</td>\n      <td>11.55813</td>\n      <td>14.21507</td>\n    </tr>\n    <tr>\n      <th>63</th>\n      <td>NaN</td>\n      <td>NaN</td>\n      <td>NaN</td>\n      <td>NaN</td>\n      <td>NaN</td>\n      <td>NaN</td>\n      <td>NaN</td>\n      <td>NaN</td>\n      <td>NaN</td>\n      <td>NaN</td>\n      <td>...</td>\n      <td>NaN</td>\n      <td>NaN</td>\n      <td>NaN</td>\n      <td>NaN</td>\n      <td>NaN</td>\n      <td>NaN</td>\n      <td>NaN</td>\n      <td>NaN</td>\n      <td>NaN</td>\n      <td>NaN</td>\n    </tr>\n    <tr>\n      <th>64</th>\n      <td>Expected week day</td>\n      <td>4</td>\n      <td>7</td>\n      <td>1</td>\n      <td>4</td>\n      <td>7</td>\n      <td>1</td>\n      <td>4</td>\n      <td>7</td>\n      <td>1</td>\n      <td>...</td>\n      <td>1</td>\n      <td>4</td>\n      <td>7</td>\n      <td>1</td>\n      <td>4</td>\n      <td>7</td>\n      <td>1</td>\n      <td>4</td>\n      <td>7</td>\n      <td>1</td>\n    </tr>\n    <tr>\n      <th>65</th>\n      <td>Error ?</td>\n      <td>NaN</td>\n      <td>NaN</td>\n      <td>NaN</td>\n      <td>NaN</td>\n      <td>NaN</td>\n      <td>NaN</td>\n      <td>NaN</td>\n      <td>NaN</td>\n      <td>NaN</td>\n      <td>...</td>\n      <td>NaN</td>\n      <td>NaN</td>\n      <td>NaN</td>\n      <td>NaN</td>\n      <td>NaN</td>\n      <td>NaN</td>\n      <td>NaN</td>\n      <td>NaN</td>\n      <td>NaN</td>\n      <td>NaN</td>\n    </tr>\n  </tbody>\n</table>\n<p>66 rows × 217 columns</p>\n</div>"
     },
     "execution_count": 73,
     "metadata": {},
     "output_type": "execute_result"
    }
   ],
   "source": [
    "test = pd.read_excel('../support_files/Residual_model.xlsx')\n",
    "test"
   ],
   "metadata": {
    "collapsed": false,
    "ExecuteTime": {
     "start_time": "2023-04-17T11:46:14.118760Z",
     "end_time": "2023-04-17T11:46:14.333675Z"
    }
   }
  },
  {
   "cell_type": "code",
   "execution_count": 75,
   "outputs": [],
   "source": [
    "test.to_excel('test.xlsx')"
   ],
   "metadata": {
    "collapsed": false,
    "ExecuteTime": {
     "start_time": "2023-04-17T11:46:45.739502Z",
     "end_time": "2023-04-17T11:46:46.192008Z"
    }
   }
  },
  {
   "cell_type": "code",
   "execution_count": null,
   "outputs": [],
   "source": [],
   "metadata": {
    "collapsed": false
   }
  },
  {
   "cell_type": "code",
   "execution_count": null,
   "outputs": [],
   "source": [
    "from ecodynelec.updating import update_residual_share\n",
    "import os\n",
    "\n",
    "path_dir = os.path.join(os.path.dirname(os.path.dirname(os.path.abspath(__file__))), 'support_files')\n",
    "print('path is', path_dir)\n",
    "update_residual_share(os.path.join(path_dir,\"Residual_model.xlsx\"), save=True)"
   ],
   "metadata": {
    "collapsed": false
   }
  },
  {
   "cell_type": "code",
   "execution_count": null,
   "outputs": [],
   "source": [],
   "metadata": {
    "collapsed": false
   }
  }
 ],
 "metadata": {
  "kernelspec": {
   "display_name": "Python 3",
   "language": "python",
   "name": "python3"
  },
  "language_info": {
   "codemirror_mode": {
    "name": "ipython",
    "version": 2
   },
   "file_extension": ".py",
   "mimetype": "text/x-python",
   "name": "python",
   "nbconvert_exporter": "python",
   "pygments_lexer": "ipython2",
   "version": "2.7.6"
  }
 },
 "nbformat": 4,
 "nbformat_minor": 0
}
