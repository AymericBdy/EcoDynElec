{
 "cells": [
  {
   "cell_type": "markdown",
   "id": "0577e23b",
   "metadata": {},
   "source": [
    "Notebook for tests"
   ]
  },
  {
   "cell_type": "markdown",
   "id": "7278c547",
   "metadata": {},
   "source": [
    "# Test entso-e import"
   ]
  },
  {
   "cell_type": "markdown",
   "id": "aace5bde",
   "metadata": {},
   "source": [
    "# Test all other individual imports"
   ]
  },
  {
   "cell_type": "markdown",
   "id": "1d785b5b",
   "metadata": {},
   "source": [
    "# Test error messages when wrong times"
   ]
  },
  {
   "cell_type": "markdown",
   "id": "663f6af4",
   "metadata": {},
   "source": [
    "# Test data correction"
   ]
  },
  {
   "cell_type": "markdown",
   "id": "d3aaa515",
   "metadata": {},
   "source": [
    "# Test import from cleaned data"
   ]
  },
  {
   "cell_type": "markdown",
   "id": "959cdca6",
   "metadata": {},
   "source": [
    "# Test for computation\n",
    "## Test for all possible countries as target\n",
    "## Test all combinations of parameters"
   ]
  },
  {
   "cell_type": "markdown",
   "id": "d1619217",
   "metadata": {},
   "source": [
    "# Test impact computation"
   ]
  },
  {
   "cell_type": "markdown",
   "id": "096ae61a",
   "metadata": {},
   "source": [
    "# Test wrapp + count + time count"
   ]
  }
 ],
 "metadata": {
  "kernelspec": {
   "display_name": "EcoDyn",
   "language": "python",
   "name": "env_ecodyn"
  },
  "language_info": {
   "codemirror_mode": {
    "name": "ipython",
    "version": 3
   },
   "file_extension": ".py",
   "mimetype": "text/x-python",
   "name": "python",
   "nbconvert_exporter": "python",
   "pygments_lexer": "ipython3",
   "version": "3.7.11"
  },
  "toc": {
   "base_numbering": 1,
   "nav_menu": {},
   "number_sections": true,
   "sideBar": true,
   "skip_h1_title": false,
   "title_cell": "Table of Contents",
   "title_sidebar": "Contents",
   "toc_cell": false,
   "toc_position": {},
   "toc_section_display": true,
   "toc_window_display": false
  }
 },
 "nbformat": 4,
 "nbformat_minor": 5
}
