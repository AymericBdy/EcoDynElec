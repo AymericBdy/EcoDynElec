{
 "cells": [
  {
   "cell_type": "markdown",
   "id": "0577e23b",
   "metadata": {},
   "source": [
    "Notebook for tests"
   ]
  },
  {
   "cell_type": "code",
   "execution_count": 1,
   "id": "c95ae640",
   "metadata": {},
   "outputs": [],
   "source": [
    "__file__ = \"Guidelines.ipynb\""
   ]
  },
  {
   "cell_type": "code",
   "execution_count": 2,
   "id": "edfb43ff-eb5a-4f47-94ab-15aa4c33aeb5",
   "metadata": {},
   "outputs": [],
   "source": [
    "import os, sys\n",
    "import unittest\n",
    "\n",
    "from numpy import unique, all\n",
    "from pandas.core import frame\n",
    "from pandas import DataFrame, Index\n",
    "import paramiko\n",
    "from getpass import getpass\n",
    "from datetime import datetime, timedelta\n",
    "\n",
    "sys.path.insert(0,'/home/user/EcoDynBat/ecodyn/')\n",
    "\n",
    "from ecodynelec.preprocessing import download_raw"
   ]
  },
  {
   "cell_type": "code",
   "execution_count": 5,
   "id": "8c035ea6-c1bf-4305-afd5-33121096b82e",
   "metadata": {},
   "outputs": [
    {
     "name": "stdin",
     "output_type": "stream",
     "text": [
      "Username:  ledee.public@gmail.com\n",
      "Password:  ········\n"
     ]
    },
    {
     "name": "stderr",
     "output_type": "stream",
     "text": [
      "test_download (__main__.TestDownload) ... ok\n",
      "\n",
      "----------------------------------------------------------------------\n",
      "Ran 1 test in 2.478s\n",
      "\n",
      "OK\n"
     ]
    }
   ],
   "source": [
    "class TestDownload(unittest.TestCase):\n",
    "    \n",
    "    def __init__(self, *args, **kwargs):\n",
    "        super().__init__(*args, **kwargs)\n",
    "        self.user = None\n",
    "        self.pwd = None\n",
    "        self.transport = None\n",
    "        self.identify() # Establishes a connexion\n",
    "        \n",
    "    \n",
    "    def identify(self):\n",
    "        ### Ask for username\n",
    "        if self.user is None:\n",
    "            self.user = input(\"Username: \")\n",
    "        \n",
    "        ### Ask for password\n",
    "        if self.pwd is None:\n",
    "            ### First try\n",
    "            pwd = getpass(\"Password: \")\n",
    "            transport = self.connect(pwd)\n",
    "            if not transport:\n",
    "                print(\"Error in credentials. Last try before skipping this section.\")\n",
    "                pwd = getpass(\"Password: \")\n",
    "                transport = self.connect(pwd)\n",
    "                if not transport:\n",
    "                    raise paramiko.AuthenticationException(\"Password may be outdated. Try to log online.\")\n",
    "            self.pwd = pwd\n",
    "            self.transport = transport\n",
    "            \n",
    "                \n",
    "    def connect(self, pwd):\n",
    "        transport = paramiko.Transport( (\"sftp-transparency.entsoe.eu\", 22) )\n",
    "        try:\n",
    "            transport.connect(username=self.user, password=pwd)\n",
    "            valid = transport\n",
    "        except paramiko.AuthenticationException:\n",
    "            transport.close()\n",
    "            valid = False\n",
    "        return valid\n",
    "    \n",
    "    \n",
    "    def remoteContent(self, remote_files, expected_filename, case='prod'):\n",
    "        ### Verify file name structure\n",
    "        self.assertTrue( all( [f.split(\"_\")[0].isdigit() for f in remote_files] ), msg=f\"Cannot find Years in file name {case}\" )\n",
    "        self.assertTrue( all( [f.split(\"_\")[1].isdigit() for f in remote_files] ), msg=f\"Cannot find Month in file name {case}\" )\n",
    "\n",
    "        ### Verify core name of files\n",
    "        self.assertTrue( all( [f.endswith(expected_filename) for f in remote_files] ), msg=f\"Change in core name for {case}\" )\n",
    "\n",
    "        ### Verify repo is current files\n",
    "        recent_year = max([int(f.split(\"_\")[0]) for f in remote_files])\n",
    "        recent_month = max([int(f.split(\"_\")[1]) for f in remote_files if f.split(\"_\")[0]==str(recent_year)])\n",
    "        self.assertGreaterEqual(datetime.strptime(f\"{recent_year}-{recent_month}\",'%Y-%m'), datetime.now()-timedelta(days=31),\n",
    "                                msg=f'No recent database update for {case}' )\n",
    "        \n",
    "    def test_download(self):\n",
    "        \"\"\"All tests for downloaded are gathered in 1 single test to avoid asking the credentials multiple times.\"\"\"\n",
    "        if self.transport is not None:\n",
    "            ### Set paths\n",
    "            # remote Generation\n",
    "            pathdir_gen = \"/TP_export/AggregatedGenerationPerType_16.1.B_C/\"\n",
    "            filename_gen= \"AggregatedGenerationPerType_16.1.B_C.csv\"\n",
    "            # remote Exchanges\n",
    "            pathdir_exch = \"/TP_export/PhysicalFlows_12.1.G/\"\n",
    "            filename_exch= \"PhysicalFlows_12.1.G.csv\"\n",
    "            \n",
    "            ### Get files\n",
    "            with paramiko.SFTPClient.from_transport(self.transport) as sftp:\n",
    "                remote_gen = sorted(sftp.listdir(pathdir_gen)) # Get files list in directory\n",
    "                remote_exch = sorted(sftp.listdir(pathdir_exch)) # Get files list in directory\n",
    "            \n",
    "            \n",
    "            ### Testing Generation\n",
    "            self.remoteContent(remote_gen, filename_gen, case='Production')\n",
    "\n",
    "            ### Testing\n",
    "            self.remoteContent(remote_exch, filename_exch, case='Exchanges')\n",
    "\n",
    "            ### Close the transport\n",
    "            self.transport.close()\n",
    "        \n",
    "        else:\n",
    "            raise paramiko.AuthenticationException(f\"No connection was made. Skip download tests.\")\n",
    "        \n",
    "        \n",
    "        \n",
    "#############\n",
    "res = unittest.main(argv=[''], verbosity=2, exit=False)"
   ]
  },
  {
   "cell_type": "raw",
   "id": "a339d68a-d0bd-46bf-b6ea-fb60e09b0ce6",
   "metadata": {},
   "source": [
    "Username: ledee.public@gmail.com\n",
    "Password: E893UyTmzaXkYZC#"
   ]
  }
 ],
 "metadata": {
  "kernelspec": {
   "display_name": "Python 3 (ipykernel)",
   "language": "python",
   "name": "python3"
  },
  "language_info": {
   "codemirror_mode": {
    "name": "ipython",
    "version": 3
   },
   "file_extension": ".py",
   "mimetype": "text/x-python",
   "name": "python",
   "nbconvert_exporter": "python",
   "pygments_lexer": "ipython3",
   "version": "3.8.10"
  },
  "toc": {
   "base_numbering": 1,
   "nav_menu": {},
   "number_sections": true,
   "sideBar": true,
   "skip_h1_title": false,
   "title_cell": "Table of Contents",
   "title_sidebar": "Contents",
   "toc_cell": false,
   "toc_position": {},
   "toc_section_display": true,
   "toc_window_display": false
  }
 },
 "nbformat": 4,
 "nbformat_minor": 5
}
